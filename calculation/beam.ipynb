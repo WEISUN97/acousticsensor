{
 "cells": [
  {
   "cell_type": "code",
   "execution_count": 2,
   "metadata": {},
   "outputs": [
    {
     "name": "stdout",
     "output_type": "stream",
     "text": [
      "[18538.84471103  4634.71117776  2059.87163456  1158.67779444]\n",
      "[116189.34221463  29047.33555366  12909.92691274   7261.83388841]\n"
     ]
    }
   ],
   "source": [
    "# calculate the nature frequency of a cantilever beam\n",
    "import numpy as np\n",
    "\n",
    "# Constants\n",
    "# E = 148e9  # Young's modulus for silicon in Pascals\n",
    "E = 290e9\n",
    "# rho = 2600  # Density of silicon in kg/m^3\n",
    "rho = 3170\n",
    "w = 2e-6  # Width of the beam in meters\n",
    "thickness = 0.75e-6  # Thickness of the beam in meters\n",
    "L = np.array([250e-6, 500e-6, 750e-6, 1000e-6])  # Lengths of the beam in meters\n",
    "\n",
    "# Calculating the second moment of area (I) and cross-sectional area (A)\n",
    "I = (w * thickness**3) / 12\n",
    "A = w * thickness\n",
    "\n",
    "# Natural frequency calculation\n",
    "f1 = (1.875**2 / (2 * np.pi)) * np.sqrt((E * I) / (rho * A * L**4))\n",
    "f2 = (4.694**2 / (2 * np.pi)) * np.sqrt((E * I) / (rho * A * L**4))\n",
    "print(f1)\n",
    "print(f2)"
   ]
  },
  {
   "cell_type": "code",
   "execution_count": 9,
   "metadata": {},
   "outputs": [
    {
     "name": "stdout",
     "output_type": "stream",
     "text": [
      "The calculated t is 25869.738810 um\n"
     ]
    }
   ],
   "source": [
    "# given natural frequency\n",
    "def calculate_beam_dimension(f1, **dimensions):\n",
    "    E = 160e9  # Young's modulus for silicon in Pascals\n",
    "    rho = 2330  # Density of silicon in kg/m^3\n",
    "    beta = 1.875  # Mode shape constant for the first mode\n",
    "    \n",
    "    if 'L' not in dimensions:\n",
    "        t = dimensions['t']\n",
    "        L = (beta**2 * t / (2 * np.pi * f1) * (E / 12 / rho)**0.5)**0.5\n",
    "        return L\n",
    "    \n",
    "    elif 't' not in dimensions: \n",
    "        L = dimensions['L']\n",
    "        # Solve for t given L\n",
    "        t = 2 * np.pi * L**2 * f1 / beta**2 * (12 * rho / E)**0.5\n",
    "        return t\n",
    "\n",
    "# Example usage\n",
    "target = 't'\n",
    "result = calculate_beam_dimension(1, t=500e-9)\n",
    "# result = calculate_beam_dimension(2412.99134434, L=500e-6)\n",
    "print(f\"The calculated {target} is {result*10**6:.6f} um\")\n",
    "\n",
    "\n",
    "\n",
    "\n",
    "\n",
    "\n"
   ]
  },
  {
   "cell_type": "code",
   "execution_count": 11,
   "metadata": {},
   "outputs": [
    {
     "name": "stdout",
     "output_type": "stream",
     "text": [
      "2.6670937500000006e-08\n"
     ]
    }
   ],
   "source": [
    "# Displacement\n",
    "L = 500e-6\n",
    "E = 160e9  # Young's modulus for silicon in Pascals\n",
    "rho = 2320  # Density of silicon in kg/m^3\n",
    "w = 1e-6  # Width of the beam in meters\n",
    "thickness = 0.5e-6  # Thickness of the beam in meters\n",
    "k = 8*E*I/L**3\n",
    "g = 9.81\n",
    "P = rho*g*w*thickness*L\n",
    "x = P / k\n",
    "print(x)"
   ]
  },
  {
   "cell_type": "code",
   "execution_count": 1,
   "metadata": {},
   "outputs": [
    {
     "name": "stdout",
     "output_type": "stream",
     "text": [
      "[6629.41392449 1657.35348112  736.60154717  414.33837028]\n",
      "[41548.82654024 10387.20663506  4616.53628225  2596.80165877]\n"
     ]
    }
   ],
   "source": [
    "# calculate the nature frequency of a cantilever beam\n",
    "import numpy as np\n",
    "# for Si\n",
    "# Constants\n",
    "E = 148e9  # Young's modulus for silicon in Pascals\n",
    "rho = 2600  # Density of silicon in kg/m^3\n",
    "w = 2e-6  # Width of the beam in meters\n",
    "thickness = 0.34e-6  # Thickness of the beam in meters\n",
    "L = np.array([250e-6, 500e-6, 750e-6, 1000e-6])  # Lengths of the beam in meters\n",
    "\n",
    "# Calculating the second moment of area (I) and cross-sectional area (A)\n",
    "I = (w * thickness**3) / 12\n",
    "A = w * thickness\n",
    "\n",
    "# Natural frequency calculation\n",
    "f1 = (1.875**2 / (2 * np.pi)) * np.sqrt((E * I) / (rho * A * L**4))\n",
    "f2 = (4.694**2 / (2 * np.pi)) * np.sqrt((E * I) / (rho * A * L**4))\n",
    "print(f1)\n",
    "print(f2)"
   ]
  }
 ],
 "metadata": {
  "kernelspec": {
   "display_name": "Python 3",
   "language": "python",
   "name": "python3"
  },
  "language_info": {
   "codemirror_mode": {
    "name": "ipython",
    "version": 3
   },
   "file_extension": ".py",
   "mimetype": "text/x-python",
   "name": "python",
   "nbconvert_exporter": "python",
   "pygments_lexer": "ipython3",
   "version": "3.11.11"
  }
 },
 "nbformat": 4,
 "nbformat_minor": 2
}
