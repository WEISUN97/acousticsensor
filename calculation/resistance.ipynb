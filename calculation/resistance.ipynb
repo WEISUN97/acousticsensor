{
 "cells": [
  {
   "cell_type": "code",
   "execution_count": 2,
   "metadata": {},
   "outputs": [],
   "source": [
    "\n",
    "from sympy import *\n",
    "# calculation of resistance\n",
    "# rho = 2.81e-8\n",
    "rho = 2.6e-8\n",
    "t = 135e-9\n",
    "def resistance(L, w):\n",
    "    R = rho * L / w / t\n",
    "    return R\n",
    "l = Symbol('l')\n",
    "def resistanceInt(L, W):\n",
    "    R = rho / t *  integrate(1 / W, (l, 0, L))\n",
    "    return R"
   ]
  },
  {
   "cell_type": "code",
   "execution_count": 3,
   "metadata": {},
   "outputs": [
    {
     "name": "stdout",
     "output_type": "stream",
     "text": [
      "Rx = 1.45314528560347\n",
      "Ry = 8.29018232264051\n",
      "Ru = 3.2098765432098766\n",
      "Rz = 1.4444444444444444\n",
      "R1 = 12.9532041514539\n",
      "R1+Rz= 14.3976485958983\n"
     ]
    }
   ],
   "source": [
    "# claculation in paper\n",
    "W = 1 - 0.125*l\n",
    "Rx = resistanceInt(4, W) + resistance(4, 2)\n",
    "print('Rx =', Rx)\n",
    "\n",
    "Ry = resistanceInt(4, W) + resistance(100, 8) + resistance(50, 2)\n",
    "print('Ry =', Ry)\n",
    "\n",
    "Ru = resistance(2, 0.12)\n",
    "print('Ru =', Ru)\n",
    "\n",
    "Rz = resistance(50, 10) + resistance(10, 4)\n",
    "print('Rz =', Rz)\n",
    "\n",
    "R1 = Rx + Ry + Ru\n",
    "print('R1 =', R1)\n",
    "print('R1+Rz=', R1 + Rz)"
   ]
  },
  {
   "cell_type": "code",
   "execution_count": 5,
   "metadata": {},
   "outputs": [
    {
     "name": "stdout",
     "output_type": "stream",
     "text": [
      "Rx = 4.86455721210324\n",
      "Ry = 4.86455721210324\n",
      "Ru = 19.644444444444446\n",
      "Rz = 0.9629629629629629\n",
      "R1 = 29.3735588686509\n",
      "R1+Rz= 30.3365218316139\n",
      "Rc = 0.1925925925925926\n"
     ]
    }
   ],
   "source": [
    "# calculation of design\n",
    "W = 10 - 0.611*l\n",
    "p = 3.1415926\n",
    "Rx = resistanceInt(5*p, W) + resistance(200, 10)\n",
    "print('Rx =', Rx)\n",
    "\n",
    "Ry = Rx\n",
    "print('Ry =', Ry)\n",
    "\n",
    "Ru = resistance(40.8, 0.4)\n",
    "print('Ru =', Ru)\n",
    "\n",
    "Rz = resistance(100, 20)\n",
    "print('Rz =', Rz)\n",
    "\n",
    "R1 = Rx + Ry + Ru\n",
    "print('R1 =', R1)\n",
    "print('R1+Rz=', R1 + Rz)\n",
    "\n",
    "Rc = resistance(500, 500)\n",
    "print('Rc =', Rc)\n"
   ]
  }
 ],
 "metadata": {
  "kernelspec": {
   "display_name": "Python 3",
   "language": "python",
   "name": "python3"
  },
  "language_info": {
   "codemirror_mode": {
    "name": "ipython",
    "version": 3
   },
   "file_extension": ".py",
   "mimetype": "text/x-python",
   "name": "python",
   "nbconvert_exporter": "python",
   "pygments_lexer": "ipython3",
   "version": "3.11.11"
  }
 },
 "nbformat": 4,
 "nbformat_minor": 2
}
