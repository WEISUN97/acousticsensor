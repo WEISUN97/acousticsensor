{
 "cells": [
  {
   "cell_type": "code",
   "execution_count": null,
   "metadata": {},
   "outputs": [],
   "source": [
    "\n",
    "from sympy import *\n",
    "# calculation of resistance\n",
    "# rho = 2.81e-8\n",
    "rho = 2.6e-8\n",
    "t = 135e-9\n",
    "def resistance(L, w):\n",
    "    R = rho * L / w / t\n",
    "    return R\n",
    "l = Symbol('l')\n",
    "def resistanceInt(L, W):\n",
    "    R = rho / t *  integrate(1 / W, (l, 0, L))\n",
    "    return R"
   ]
  },
  {
   "cell_type": "code",
   "execution_count": 18,
   "metadata": {},
   "outputs": [
    {
     "name": "stdout",
     "output_type": "stream",
     "text": [
      "Rx = 1.57051471251760\n",
      "Ry = 8.95977397177686\n",
      "Ru = 3.4691358024691357\n",
      "Rz = 1.5611111111111113\n",
      "R1 = 13.9994244867636\n",
      "R1+Rz= 15.5605355978747\n"
     ]
    }
   ],
   "source": [
    "# claculation in paper\n",
    "W = 1 - 0.125*l\n",
    "Rx = resistanceInt(4, W) + resistance(4, 2)\n",
    "print('Rx =', Rx)\n",
    "\n",
    "Ry = resistanceInt(4, W) + resistance(100, 8) + resistance(50, 2)\n",
    "print('Ry =', Ry)\n",
    "\n",
    "Ru = resistance(2, 0.12)\n",
    "print('Ru =', Ru)\n",
    "\n",
    "Rz = resistance(50, 10) + resistance(10, 4)\n",
    "print('Rz =', Rz)\n",
    "\n",
    "R1 = Rx + Ry + Ru\n",
    "print('R1 =', R1)\n",
    "print('R1+Rz=', R1 + Rz)"
   ]
  },
  {
   "cell_type": "code",
   "execution_count": 20,
   "metadata": {},
   "outputs": [
    {
     "name": "stdout",
     "output_type": "stream",
     "text": [
      "Rx = 5.25746375615773\n",
      "Ry = 5.25746375615773\n",
      "Ru = 21.231111111111105\n",
      "Rz = 1.040740740740741\n",
      "R1 = 31.7460386234266\n",
      "R1+Rz= 32.7867793641673\n"
     ]
    }
   ],
   "source": [
    "# calculation of design\n",
    "W = 10 - 0.611*l\n",
    "p = 3.1415926\n",
    "Rx = resistanceInt(5*p, W) + resistance(200, 10)\n",
    "print('Rx =', Rx)\n",
    "\n",
    "Ry = Rx\n",
    "print('Ry =', Ry)\n",
    "\n",
    "Ru = resistance(40.8, 0.4)\n",
    "print('Ru =', Ru)\n",
    "\n",
    "Rz = resistance(100, 20)\n",
    "print('Rz =', Rz)\n",
    "\n",
    "R1 = Rx + Ry + Ru\n",
    "print('R1 =', R1)\n",
    "print('R1+Rz=', R1 + Rz)\n",
    "\n",
    "\n"
   ]
  }
 ],
 "metadata": {
  "kernelspec": {
   "display_name": "Python 3",
   "language": "python",
   "name": "python3"
  },
  "language_info": {
   "codemirror_mode": {
    "name": "ipython",
    "version": 3
   },
   "file_extension": ".py",
   "mimetype": "text/x-python",
   "name": "python",
   "nbconvert_exporter": "python",
   "pygments_lexer": "ipython3",
   "version": "3.11.11"
  }
 },
 "nbformat": 4,
 "nbformat_minor": 2
}
