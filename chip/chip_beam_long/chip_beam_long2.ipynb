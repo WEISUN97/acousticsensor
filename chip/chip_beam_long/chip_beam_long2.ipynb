{
 "cells": [
  {
   "cell_type": "code",
   "execution_count": 130,
   "metadata": {},
   "outputs": [],
   "source": [
    "import sys\n",
    "# sys.path.append(\"/Users/bubble/Desktop/Project/Infrasound Sensor/Layout/Code/acousticsensor\")\n",
    "\n",
    "import gdsfactory as gf\n",
    "# TODO\n",
    "# 1. Change one side of the cell_temp to be comparation with the width\n",
    "# 2. Different with the width and same width with gap\n",
    "\n",
    "cell_temp = gf.Component()"
   ]
  },
  {
   "cell_type": "code",
   "execution_count": 131,
   "metadata": {},
   "outputs": [],
   "source": [
    "# cell\n",
    "L = 2000\n",
    "w = [1, 2, 4, 8, 16, 32, 64, 128]\n",
    "\n",
    "block = gf.Component()\n",
    "origin = (5000 / len(w), 0)\n",
    "\n",
    "for i in range(len(w)):\n",
    "    beam = gf.components.rectangle(size=(w[i], L), layer=(9, 0))\n",
    "    beam_ref = block << beam\n",
    "    beam_ref.movex(5000/(len(w)+1)*(i+1)-w[i]/2)\n",
    "    # length mark\n",
    "    T = gf.components.text(f\"{w[i]}\", size=50, layer=(1, 0))\n",
    "    T_ref = block << T\n",
    "    T_ref.move(((5000/(len(w)+1)*(i+1)-w[i]/2), -150))\n",
    "            \n",
    "\n",
    "\n",
    "\n",
    "# block.show()"
   ]
  },
  {
   "cell_type": "code",
   "execution_count": 132,
   "metadata": {},
   "outputs": [],
   "source": [
    "# backside etching 5mm * 5mm (5743.44um)\n",
    "backside = gf.Component()\n",
    "size = 5743.44\n",
    "diff = (size - 5000) / 2\n",
    "for i in range(2):\n",
    "    backside_temp = gf.components.rectangle(size=(size, size), layer=(3, 0))\n",
    "    backside_ref = backside << backside_temp\n",
    "    if i == 0:\n",
    "        backside_ref.move((-diff, -diff))\n",
    "    elif i == 1:\n",
    "        backside_ref.move((10000-diff, -diff))\n",
    "\n",
    "# backside.show()"
   ]
  },
  {
   "cell_type": "code",
   "execution_count": 133,
   "metadata": {},
   "outputs": [],
   "source": [
    "# structure for each die\n",
    "# structure for a block\n",
    "fblock = gf.Component()\n",
    "for i in range(2):\n",
    "    block_ref = fblock << block\n",
    "    if i == 0:\n",
    "        pass\n",
    "    elif i == 1:\n",
    "        block_ref = fblock << block\n",
    "        block_ref.move((10000, 0))\n"
   ]
  },
  {
   "cell_type": "code",
   "execution_count": 134,
   "metadata": {},
   "outputs": [],
   "source": [
    "# order\n",
    "order = gf.Component()\n",
    "text_array = []\n",
    "for i in range(2):\n",
    "    text_array.append(gf.Component())\n",
    "\n",
    "for i in range(2):\n",
    "    T = gf.components.text(f\"BeL2 {i+1}\", size=20, layer=(1, 0))\n",
    "    for j in range(4):\n",
    "        order_ref = text_array[i] << T\n",
    "        if j == 0:\n",
    "            order_ref.move((-100, 0))\n",
    "        elif j == 1:\n",
    "            order_ref.move((-100, 5000))\n",
    "        elif j == 2:\n",
    "            order_ref.move((5020, 0))\n",
    "        else:\n",
    "            order_ref.move((5020, 5000))\n",
    "    text_array_ref = order << text_array[i]\n",
    "    if i == 0:\n",
    "        text_array_ref.move((0, 0))\n",
    "    elif i == 1:\n",
    "        text_array_ref.move((10000, 0))\n",
    "\n",
    "\n",
    "\n"
   ]
  },
  {
   "cell_type": "code",
   "execution_count": 135,
   "metadata": {},
   "outputs": [],
   "source": [
    "# backside frame 5mm * 5mm \n",
    "backframe = gf.Component()\n",
    "size = 5000\n",
    "for i in range(2):\n",
    "    backframe_temp = gf.components.rectangle(size=(size, size), layer=(3, 0))\n",
    "    backframe_ref = backframe << backframe_temp\n",
    "    if i == 0:\n",
    "        pass\n",
    "    elif i == 1:\n",
    "        backframe_ref.move((10000, 0))\n",
    "\n",
    "# backside.show()"
   ]
  },
  {
   "cell_type": "code",
   "execution_count": null,
   "metadata": {},
   "outputs": [],
   "source": [
    "# boolean operation\n",
    "# do backside etching - frame\n",
    "outside = gf.boolean(A = backframe, B = fblock,  operation=\"not\", layer1=(3, 0), layer2=(9, 0), layer=(2, 0))\n",
    "outside = gf.boolean(A = outside, B = fblock,  operation=\"not\", layer1=(2, 0), layer2=(10, 0), layer=(1, 0))\n",
    "\n",
    "cell_temp << outside\n",
    "\n",
    "# add holes to cell_temp\n",
    "holes = gf.boolean(A = fblock, B = fblock,  operation=\"not\", layer1=(8, 0), layer2=(10, 0), layer=(1, 0))\n",
    "cell_temp << holes\n",
    "# add holes to cell_temp\n",
    "pc = gf.boolean(A = fblock, B = fblock,  operation=\"not\", layer1=(11, 0), layer2=(30, 0), layer=(2, 0))\n",
    "cell_temp << pc\n",
    "cell_temp << backside\n",
    "# add order\n",
    "marker = gf.boolean(A = fblock, B = fblock,  operation=\"not\", layer1=(1, 0), layer2=(10, 0), layer=(1, 0))\n",
    "cell_temp << marker\n",
    "cell_temp << order\n",
    "# frame\n",
    "frame1 = gf.components.rectangle(size=(15000, 5000), layer=(20, 0))\n",
    "cell_temp << frame1\n",
    "frame2 = gf.components.rectangle(size=(20000, 15830), layer=(21, 0))\n",
    "frame2_ref = cell_temp << frame2\n",
    "frame2_ref.move((-2500, -5415))\n",
    "\n",
    "cell_beam_long2 = gf.Component()\n",
    "cell_ref = cell_beam_long2 << cell_temp\n",
    "cell_ref.move((2500, 5415-10000))\n",
    "cell_beam_long2.show()\n",
    "# cell_beam_long2.write_gds(\"mesh.gds\")\n",
    "# cell_beam_long2.plot()"
   ]
  }
 ],
 "metadata": {
  "kernelspec": {
   "display_name": "Python 3",
   "language": "python",
   "name": "python3"
  },
  "language_info": {
   "codemirror_mode": {
    "name": "ipython",
    "version": 3
   },
   "file_extension": ".py",
   "mimetype": "text/x-python",
   "name": "python",
   "nbconvert_exporter": "python",
   "pygments_lexer": "ipython3",
   "version": "3.11.11"
  }
 },
 "nbformat": 4,
 "nbformat_minor": 2
}
