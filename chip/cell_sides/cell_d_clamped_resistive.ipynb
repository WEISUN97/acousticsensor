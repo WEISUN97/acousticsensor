{
 "cells": [
  {
   "cell_type": "code",
   "execution_count": 12,
   "metadata": {},
   "outputs": [],
   "source": [
    "import sys\n",
    "# sys.path.append(\"/Users/bubble/Desktop/Project/Infrasound Sensor/Layout/Code/acousticsensor\")\n",
    "import numpy as np\n",
    "import gdsfactory as gf\n",
    "\n",
    "cell_temp = gf.Component()"
   ]
  },
  {
   "cell_type": "code",
   "execution_count": 13,
   "metadata": {},
   "outputs": [],
   "source": [
    "# pad and lines\n",
    "pad = gf.Component()\n",
    "\n",
    "# lines\n",
    "line_base = gf.Component()\n",
    "line_half = gf.Component()\n",
    "# define the cross section\n",
    "w1 = 10\n",
    "w2 = 1  \n",
    "s1 = gf.Section(width=w1, offset=0, layer=(2, 0), name=\"1\", port_names=(\"o1\", \"o2\"))\n",
    "X1 = gf.CrossSection(sections=[s1])\n",
    "s2 = gf.Section(width=w2, offset=0, layer=(2, 0), name=\"1\", port_names=(\"o1\", \"o2\"))\n",
    "X2 = gf.CrossSection(sections=[s2])\n",
    "# define the path\n",
    "# define distance\n",
    "d1 = 200\n",
    "radius = 20\n",
    "h1 = 20\n",
    "d5 = 1.5\n",
    "p1 = gf.path.straight(length=d1)\n",
    "p = p1\n",
    "wg1 = gf.path.extrude(p, X1)\n",
    "p4 = gf.path.arc(radius=radius, angle=-90)\n",
    "Xtrans = gf.path.transition(cross_section1=X1, cross_section2=X2, width_type=\"sine\")\n",
    "curve_transition = gf.path.extrude_transition(p4, Xtrans)\n",
    "\n",
    "wg1_ref = line_base << wg1\n",
    "wg2_ref = line_base << curve_transition\n",
    "wg2_ref.connect(\"o1\", wg1_ref.ports[\"o2\"])\n",
    "\n",
    "P = gf.Path()\n",
    "p5 = gf.path.straight(length=h1)\n",
    "p6 = gf.path.straight(length=d5)\n",
    "P += p5\n",
    "P.end_angle += 90  # \"Turn\" 90 deg (left)\n",
    "P += p6\n",
    "wg3 = gf.path.extrude(P, X2)\n",
    "wg3_ref = line_base << wg3\n",
    "wg3_ref.connect(\"o1\", wg2_ref.ports[\"o2\"])\n",
    "\n",
    "# line_base.show()\n",
    "d = d1+radius+d5\n",
    "line_base_ref1 = line_half << line_base\n",
    "line_base_ref2 = line_half << line_base\n",
    "line_base_ref2.dmirror_x(d)\n",
    "# add connection\n",
    "w_con = (d5-w2/2)*2\n",
    "h_con = 3-w2\n",
    "connection = gf.components.rectangle(size=(w_con, h_con), layer=(2, 0))\n",
    "line_half.add_ref(connection).move((-w_con/2+3*d, radius+h1-h_con-w2/2))\n",
    "pad1 = gf.Component()\n",
    "pad1.add_ref(line_half)\n",
    "pad1.add_ref(line_half).drotate(angle=180, center=(2*d, 0))\n",
    "pad1.show()\n",
    "\n",
    "\n"
   ]
  },
  {
   "cell_type": "code",
   "execution_count": 14,
   "metadata": {},
   "outputs": [],
   "source": [
    "# pads\n",
    "pad_size = 500\n",
    "h2 = 100\n",
    "w3 = 20\n",
    "line_vertical = gf.components.rectangle(size=(w3, h2), layer=(2, 0))\n",
    "pad.add_ref(line_vertical).move((2*d-w3/2, -h2-w1/2))\n",
    "sg_pad = gf.components.rectangle(size=(pad_size, pad_size), layer=(2, 0))\n",
    "# pad1: two pads without the mid pad\n",
    "pad1.add_ref(sg_pad).move((-pad_size, w1/2-pad_size))\n",
    "pad1.add_ref(sg_pad).move((4*d, w1/2-pad_size))\n",
    "pad.add_ref(sg_pad).move((2*d-pad_size/2, -w1/2-pad_size-h2))\n",
    "\n",
    "pad << pad1\n",
    "# all pads and lines at the bottom\n",
    "pad.show()\n",
    "\n"
   ]
  },
  {
   "cell_type": "code",
   "execution_count": 15,
   "metadata": {},
   "outputs": [],
   "source": [
    "# cell\n",
    "L = [250, 500, 750, 1000]\n",
    "w = 5\n",
    "block = gf.Component()\n",
    "block_temp = gf.Component()\n",
    "origin = [0, 0]\n",
    "\n",
    "for i in range(len(L)):\n",
    "    # add beam\n",
    "    beam = gf.components.rectangle(size=(w, L[i]), layer=(9, 0))\n",
    "    # length mark\n",
    "    T = gf.components.text(f\"{L[i]}\", size=50, layer=(1, 0))\n",
    "    T_ref = block_temp << T\n",
    "    # add pad\n",
    "    pad2 = gf.Component()\n",
    "    pad_temp = gf.Component()\n",
    "    pad2.add_ref(pad1).dmirror_y(L[i]/2+radius)\n",
    "    pad_temp << pad2\n",
    "    pad_temp << pad\n",
    "    pad_ref = block_temp << pad_temp\n",
    "    # add backside frame\n",
    "    frame_temp = gf.Component()\n",
    "    size = L[i]\n",
    "    frame = gf.components.rectangle(size=(size, size), layer=(3, 0))\n",
    "    frame_temp.add_ref(frame).movex(-size/2+w/2)\n",
    "    beam_temp = gf.boolean(A = frame_temp, B = beam,  operation=\"not\", layer1=(3, 0), layer2=(9, 0), layer=(1, 0))\n",
    "    # add backside etch\n",
    "    size2 = 371.72 + size\n",
    "    backside_temp = gf.Component()\n",
    "    backside = gf.components.rectangle(size=(size2, size2), layer=(3, 0))\n",
    "    backside_temp.add_ref(backside).move((-(size2-size)/2-size/2+w/2, -(size2-size)/2))\n",
    "    beam_temp << backside_temp\n",
    "    beam_ref = block_temp << beam_temp\n",
    "    # adjust position\n",
    "    beam_ref.movey(2500*i-250)\n",
    "    T_ref.movey(2500*i-250-700)\n",
    "    pad_ref.move((-3*d+w/2, 2500*i-250-radius))\n",
    "\n",
    "block << block_temp\n",
    "block.show()"
   ]
  },
  {
   "cell_type": "code",
   "execution_count": 16,
   "metadata": {},
   "outputs": [],
   "source": [
    "# structure for each die\n",
    "# structure for a block\n",
    "fblock = gf.Component()\n",
    "for i in range(6):\n",
    "    block_ref = fblock << block\n",
    "    block_ref.move((2500*(i+1), 0))\n"
   ]
  },
  {
   "cell_type": "code",
   "execution_count": 17,
   "metadata": {},
   "outputs": [
    {
     "data": {
      "text/plain": [
       "Unnamed_144: ports [], vinsts=[] info=Info() kcl=KCLayout(name='DEFAULT', layout=<klayout.dbcore.Layout object at 0x118b813d0>, layer_enclosures=LayerEnclosureModel(root={'5c226817': LayerEnclosure(layer_sections={}, main_layer=SLAB150 (2/0), yaml_tag='!Enclosure'), '4fb2b992': LayerEnclosure(layer_sections={}, main_layer=9/0, yaml_tag='!Enclosure'), '56396fc8': LayerEnclosure(layer_sections={}, main_layer=SLAB90 (3/0), yaml_tag='!Enclosure'), '6b4bcfc2': LayerEnclosure(layer_sections={}, main_layer=N (20/0), yaml_tag='!Enclosure'), 'a5f0d270': LayerEnclosure(layer_sections={}, main_layer=P (21/0), yaml_tag='!Enclosure')}), cross_sections={'5c226817_10000': SymmetricalCrossSection(width=10000, enclosure=LayerEnclosure(layer_sections={}, main_layer=SLAB150 (2/0), yaml_tag='!Enclosure'), name='5c226817_10000'), '5c226817_400': SymmetricalCrossSection(width=400, enclosure=LayerEnclosure(layer_sections={}, main_layer=SLAB150 (2/0), yaml_tag='!Enclosure'), name='5c226817_400'), '5c226817_100000': SymmetricalCrossSection(width=100000, enclosure=LayerEnclosure(layer_sections={}, main_layer=SLAB150 (2/0), yaml_tag='!Enclosure'), name='5c226817_100000'), '5c226817_20000': SymmetricalCrossSection(width=20000, enclosure=LayerEnclosure(layer_sections={}, main_layer=SLAB150 (2/0), yaml_tag='!Enclosure'), name='5c226817_20000'), '5c226817_500000': SymmetricalCrossSection(width=500000, enclosure=LayerEnclosure(layer_sections={}, main_layer=SLAB150 (2/0), yaml_tag='!Enclosure'), name='5c226817_500000'), '4fb2b992_250000': SymmetricalCrossSection(width=250000, enclosure=LayerEnclosure(layer_sections={}, main_layer=9/0, yaml_tag='!Enclosure'), name='4fb2b992_250000'), '4fb2b992_2000': SymmetricalCrossSection(width=2000, enclosure=LayerEnclosure(layer_sections={}, main_layer=9/0, yaml_tag='!Enclosure'), name='4fb2b992_2000'), '56396fc8_250000': SymmetricalCrossSection(width=250000, enclosure=LayerEnclosure(layer_sections={}, main_layer=SLAB90 (3/0), yaml_tag='!Enclosure'), name='56396fc8_250000'), '56396fc8_621720': SymmetricalCrossSection(width=621720, enclosure=LayerEnclosure(layer_sections={}, main_layer=SLAB90 (3/0), yaml_tag='!Enclosure'), name='56396fc8_621720'), '4fb2b992_500000': SymmetricalCrossSection(width=500000, enclosure=LayerEnclosure(layer_sections={}, main_layer=9/0, yaml_tag='!Enclosure'), name='4fb2b992_500000'), '56396fc8_500000': SymmetricalCrossSection(width=500000, enclosure=LayerEnclosure(layer_sections={}, main_layer=SLAB90 (3/0), yaml_tag='!Enclosure'), name='56396fc8_500000'), '56396fc8_871720': SymmetricalCrossSection(width=871720, enclosure=LayerEnclosure(layer_sections={}, main_layer=SLAB90 (3/0), yaml_tag='!Enclosure'), name='56396fc8_871720'), '4fb2b992_750000': SymmetricalCrossSection(width=750000, enclosure=LayerEnclosure(layer_sections={}, main_layer=9/0, yaml_tag='!Enclosure'), name='4fb2b992_750000'), '56396fc8_750000': SymmetricalCrossSection(width=750000, enclosure=LayerEnclosure(layer_sections={}, main_layer=SLAB90 (3/0), yaml_tag='!Enclosure'), name='56396fc8_750000'), '56396fc8_1121720': SymmetricalCrossSection(width=1121720, enclosure=LayerEnclosure(layer_sections={}, main_layer=SLAB90 (3/0), yaml_tag='!Enclosure'), name='56396fc8_1121720'), '4fb2b992_1000000': SymmetricalCrossSection(width=1000000, enclosure=LayerEnclosure(layer_sections={}, main_layer=9/0, yaml_tag='!Enclosure'), name='4fb2b992_1000000'), '56396fc8_1000000': SymmetricalCrossSection(width=1000000, enclosure=LayerEnclosure(layer_sections={}, main_layer=SLAB90 (3/0), yaml_tag='!Enclosure'), name='56396fc8_1000000'), '56396fc8_1371720': SymmetricalCrossSection(width=1371720, enclosure=LayerEnclosure(layer_sections={}, main_layer=SLAB90 (3/0), yaml_tag='!Enclosure'), name='56396fc8_1371720'), '6b4bcfc2_10830000': SymmetricalCrossSection(width=10830000, enclosure=LayerEnclosure(layer_sections={}, main_layer=N (20/0), yaml_tag='!Enclosure'), name='6b4bcfc2_10830000'), '6b4bcfc2_15000000': SymmetricalCrossSection(width=15000000, enclosure=LayerEnclosure(layer_sections={}, main_layer=N (20/0), yaml_tag='!Enclosure'), name='6b4bcfc2_15000000'), 'a5f0d270_15830000': SymmetricalCrossSection(width=15830000, enclosure=LayerEnclosure(layer_sections={}, main_layer=P (21/0), yaml_tag='!Enclosure'), name='a5f0d270_15830000'), 'a5f0d270_20000000': SymmetricalCrossSection(width=20000000, enclosure=LayerEnclosure(layer_sections={}, main_layer=P (21/0), yaml_tag='!Enclosure'), name='a5f0d270_20000000'), '5c226817_2600': SymmetricalCrossSection(width=2600, enclosure=LayerEnclosure(layer_sections={}, main_layer=SLAB150 (2/0), yaml_tag='!Enclosure'), name='5c226817_2600'), '5c226817_1000': SymmetricalCrossSection(width=1000, enclosure=LayerEnclosure(layer_sections={}, main_layer=SLAB150 (2/0), yaml_tag='!Enclosure'), name='5c226817_1000'), '5c226817_2000': SymmetricalCrossSection(width=2000, enclosure=LayerEnclosure(layer_sections={}, main_layer=SLAB150 (2/0), yaml_tag='!Enclosure'), name='5c226817_2000'), '4fb2b992_5000': SymmetricalCrossSection(width=5000, enclosure=LayerEnclosure(layer_sections={}, main_layer=9/0, yaml_tag='!Enclosure'), name='4fb2b992_5000')}, enclosure=KCellEnclosure(enclosures=LayerEnclosureCollection(enclosures=[])), library=<klayout.dbcore.Library object at 0x118b808d0>, factories={'taper': <function taper at 0x12bc0e840>, 'bend_s_bezier': <function bend_s_bezier_factory.<locals>.bend_s_bezier at 0x118bcff60>, 'bend_circular': <function bend_circular at 0x12bc0d080>, 'bend_euler': <function bend_euler at 0x12bc0db20>, 'bend_s_euler': <function bend_s_euler_factory.<locals>.bend_s_euler at 0x128075120>, 'straight': <function straight at 0x12bc7fc40>, 'rotate': <function rotate at 0x12b5762a0>, 'mirror': <function mirror at 0x12b5763e0>, 'from_image': <function from_image at 0x12b89c680>, 'floorplan_with_block_letters': <function floorplan_with_block_letters at 0x12bb88400>, 'bend_circular_heater': <function bend_circular_heater at 0x12bc0d260>, 'bend_euler_s': <function bend_euler_s at 0x12bc0d940>, 'bezier': <function bezier at 0x12bc0dee0>, 'bend_s': <function bend_s at 0x12bc0e0c0>, 'add_fiber_array_optical_south_electrical_north': <function add_fiber_array_optical_south_electrical_north at 0x12bc0e2a0>, 'ramp': <function ramp at 0x12bc0e660>, 'taper_strip_to_ridge': <function taper_strip_to_ridge at 0x12bc0e8e0>, 'taper_strip_to_ridge_trenches': <function taper_strip_to_ridge_trenches at 0x12bc0eb60>, 'taper_sc_nc': <function taper_sc_nc at 0x12bc0eca0>, 'taper_nc_sc': <function taper_nc_sc at 0x12bc0ede0>, 'taper_adiabatic': <function taper_adiabatic at 0x12bc0f060>, 'taper_cross_section': <function taper_cross_section at 0x12bb89260>, 'taper_from_csv': <function taper_from_csv at 0x12bc0f100>, 'taper_parabolic': <function taper_parabolic at 0x12bc0f240>, 'add_termination': <function add_termination at 0x12bb89760>, 'add_trenches': <function add_trenches at 0x12bc0ef20>, 'array': <function array at 0x12bc0f420>, 'copy_layers': <function copy_layers at 0x12bc0f920>, 'extend_ports_list': <function extend_ports_list at 0x12bc0fa60>, 'extend_ports': <function extend_ports at 0x12bc0fce0>, 'pack_doe': <function pack_doe at 0x12bc484a0>, 'pack_doe_grid': <function pack_doe_grid at 0x12bc485e0>, 'splitter_chain': <function splitter_chain at 0x12bc48720>, 'mzi': <function mzi at 0x12bc48b80>, 'mzi_lattice': <function mzi_lattice at 0x12bc48e00>, 'mzi_lattice_mmi': <function mzi_lattice_mmi at 0x12bc48f40>, 'mzi_pads_center': <function mzi_pads_center at 0x12bc49120>, 'mzit': <function mzit at 0x12bc49260>, 'mzit_lattice': <function mzit_lattice at 0x12bc493a0>, 'splitter_tree': <function splitter_tree at 0x12bc48d60>, 'coupler_symmetric': <function coupler_symmetric at 0x12bc49440>, 'coupler_straight': <function coupler_straight at 0x12bc49580>, 'coupler': <function coupler at 0x12bc496c0>, 'coupler90': <function coupler90 at 0x12bc49800>, 'coupler90bend': <function coupler90bend at 0x12bc498a0>, 'coupler_adiabatic': <function coupler_adiabatic at 0x12bc49bc0>, 'coupler_asymmetric': <function coupler_asymmetric at 0x12bc49e40>, 'coupler_bent_half': <function coupler_bent_half at 0x12bc4a0c0>, 'coupler_bent': <function coupler_bent at 0x12bc4a200>, 'coupler_broadband': <function coupler_broadband at 0x12bc4a480>, 'coupler_full': <function coupler_full at 0x12bc4a5c0>, 'coupler_ring': <function coupler_ring at 0x12bc4a7a0>, 'coupler_straight_asymmetric': <function coupler_straight_asymmetric at 0x12bc4a8e0>, 'align_wafer': <function align_wafer at 0x12bc4ab60>, 'add_frame': <function add_frame at 0x12bc4ac00>, 'die': <function die at 0x12bc4ae80>, 'die_with_pads': <function die_with_pads at 0x12bc4afc0>, 'seal_ring': <function seal_ring at 0x12bc4b100>, 'seal_ring_segmented': <function seal_ring_segmented at 0x12bc4b240>, 'wafer': <function wafer at 0x12bc4b380>, 'free_propagation_region': <function free_propagation_region at 0x12bc4b6a0>, 'awg': <function awg at 0x12bc4b740>, 'dbr_cell': <function dbr_cell at 0x12bc4b9c0>, 'dbr': <function dbr at 0x12bc4bb00>, 'dbr_tapered': <function dbr_tapered at 0x12bc4bce0>, 'bbox': <function bbox at 0x12bc7c2c0>, 'C': <function C at 0x12bc7c400>, 'circle': <function circle at 0x12bc7c540>, 'compass': <function compass at 0x12bc7c720>, 'cross': <function cross at 0x12bc7c860>, 'ellipse': <function ellipse at 0x12bc7c9a0>, 'fiducial_squares': <function fiducial_squares at 0x12bc7cae0>, 'L': <function L at 0x12bc7cc20>, 'nxn': <function nxn at 0x12bc7cd60>, 'rectangle': <function rectangle at 0x12bc7cea0>, 'rectangles': <function rectangles at 0x12bc7cfe0>, 'regular_polygon': <function regular_polygon at 0x12bc7d120>, 'triangle': <function triangle at 0x12bc7d260>, 'triangle2': <function triangle2 at 0x12bc7d3a0>, 'triangle4': <function triangle4 at 0x12bc7d4e0>, 'fiber': <function fiber at 0x12bc4bec0>, 'fiber_array': <function fiber_array at 0x12bc7d440>, 'crossing_arm': <function crossing_arm at 0x12bc7f600>, 'crossing': <function crossing at 0x12bc7f740>, 'crossing_linear_taper': <function crossing_linear_taper at 0x12bc7f880>, 'crossing_etched': <function crossing_etched at 0x12bc7f9c0>, 'crossing45': <function crossing45 at 0x12bc7fb00>, 'straight_array': <function straight_array at 0x12bc7fec0>, 'wire_straight': <function wire_straight at 0x12bc7ff60>, 'straight_heater_doped_rib': <function straight_heater_doped_rib at 0x12bcb42c0>, 'straight_heater_doped_strip': <function straight_heater_doped_strip at 0x12bcb44a0>, 'straight_heater_meander': <function straight_heater_meander at 0x12bcb4680>, 'via': <function via at 0x12bcb4c20>, 'via_circular': <function via_circular at 0x12bcb4d60>, 'via_chain': <function via_chain at 0x12bcb4fe0>, 'via_corner': <function via_corner at 0x12bcb5120>, 'via_stack': <function via_stack at 0x12bcb5260>, 'via_stack_corner45': <function via_stack_corner45 at 0x12bcb53a0>, 'via_stack_corner45_extended': <function via_stack_corner45_extended at 0x12bcb54e0>, 'via_stack_with_offset': <function via_stack_with_offset at 0x12bcb5620>, 'straight_heater_meander_doped': <function straight_heater_meander_doped at 0x12bcb49a0>, 'straight_heater_metal_undercut': <function straight_heater_metal_undercut at 0x12bcb4e00>, 'straight_heater_metal_simple': <function straight_heater_metal_simple at 0x12bcb5760>, 'straight_piecewise': <function straight_piecewise at 0x12bcb58a0>, 'straight_pin': <function straight_pin at 0x12bcb5940>, 'straight_pin_slot': <function straight_pin_slot at 0x12bcb5bc0>, 'wire_corner': <function wire_corner at 0x12bcb5da0>, 'wire_corner45': <function wire_corner45 at 0x12bcb5ee0>, 'wire_corner_sections': <function wire_corner_sections at 0x12bcb5f80>, 'loop_mirror': <function loop_mirror at 0x12bc7d580>, 'mode_converter': <function mode_converter at 0x12bcb7560>, 'polarization_splitter_rotator': <function polarization_splitter_rotator at 0x12bcb7740>, 'terminator': <function terminator at 0x12bcb7c40>, 'grating_coupler_array': <function grating_coupler_array at 0x12bcb7d80>, 'grating_coupler_dual_pol': <function grating_coupler_dual_pol at 0x12bcb7f60>, 'grating_coupler_elliptical': <function grating_coupler_elliptical at 0x12bcf04a0>, 'grating_coupler_elliptical_arbitrary': <function grating_coupler_elliptical_arbitrary at 0x12bcf0720>, 'grating_coupler_elliptical_uniform': <function grating_coupler_elliptical_uniform at 0x12bcf09a0>, 'grating_coupler_elliptical_lumerical': <function grating_coupler_elliptical_lumerical at 0x12bcf0ae0>, 'grating_coupler_elliptical_trenches': <function grating_coupler_elliptical_trenches at 0x12bcf0b80>, 'grating_coupler_loss': <function grating_coupler_loss at 0x12bcf0e00>, 'grating_coupler_rectangular': <function grating_coupler_rectangular at 0x12bcf0ea0>, 'grating_coupler_rectangular_arbitrary': <function grating_coupler_rectangular_arbitrary at 0x12bcf1120>, 'grating_coupler_tree': <function grating_coupler_tree at 0x12bcf1260>, 'mmi': <function mmi at 0x12bcf1440>, 'mmi1x2': <function mmi1x2 at 0x12bcf16c0>, 'mmi1x2_with_sbend': <function mmi1x2_with_sbend at 0x12bcf18a0>, 'mmi2x2': <function mmi2x2 at 0x12bcf1b20>, 'mmi2x2_with_sbend': <function mmi2x2_with_sbend at 0x12bcf1c60>, 'mmi_90degree_hybrid': <function mmi_90degree_hybrid at 0x12bcf1e40>, 'mmi_tapered': <function mmi_tapered at 0x12bcf20c0>, 'pad': <function pad at 0x12bcf2200>, 'pad_array': <function pad_array at 0x12bcf2480>, 'pad_gsg_short': <function pad_gsg_short at 0x12bcf2660>, 'pads_shorted': <function pads_shorted at 0x12bcf2840>, 'rectangle_with_slits': <function rectangle_with_slits at 0x12bcf2980>, 'cavity': <function cavity at 0x12bcf2ac0>, 'cdsem_all': <function cdsem_all at 0x12bcf2ca0>, 'cdsem_bend180': <function cdsem_bend180 at 0x12bcf2de0>, 'cdsem_coupler': <function cdsem_coupler at 0x12bcf2e80>, 'cdsem_straight': <function cdsem_straight at 0x12bcf3100>, 'cdsem_straight_density': <function cdsem_straight_density at 0x12bcf3240>, '_bendu_double': <function _bendu_double at 0x12bcf3420>, '_straight_double': <function _straight_double at 0x12bcf3560>, 'cutback_2x2': <function cutback_2x2 at 0x12bcf36a0>, 'cutback_bend': <function cutback_bend at 0x12bcf39c0>, 'cutback_bend90': <function cutback_bend90 at 0x12bcf3b00>, 'staircase': <function staircase at 0x12bcf3c40>, 'cutback_bend180': <function cutback_bend180 at 0x12bcf3d80>, 'cutback_component': <function cutback_component at 0x12bcf3ec0>, 'cutback_splitter': <function cutback_splitter at 0x12bd34180>, 'greek_cross': <function greek_cross at 0x12bd34220>, 'greek_cross_with_pads': <function greek_cross_with_pads at 0x12bd344a0>, 'litho_calipers': <function litho_calipers at 0x12bd345e0>, 'litho_ruler': <function litho_ruler at 0x12bd34860>, 'litho_steps': <function litho_steps at 0x12bd349a0>, 'resistance_meander': <function resistance_meander at 0x12bd34ae0>, 'resistance_sheet': <function resistance_sheet at 0x12bd34c20>, 'verniers': <function verniers at 0x12bd34d60>, 'text': <function text at 0x12bd358a0>, 'text_lines': <function text_lines at 0x12bd35a80>, 'text_klayout': <function text_klayout at 0x12bd35bc0>, 'text_freetype': <function text_freetype at 0x12bd35e40>, 'pixel_array': <function pixel_array at 0x12bd360c0>, 'text_rectangular': <function text_rectangular at 0x12bd36200>, 'text_rectangular_multi_layer': <function text_rectangular_multi_layer at 0x12bd36340>, 'pixel': <function pixel at 0x12bd34f40>, 'qrcode': <function qrcode at 0x12bd36020>, 'version_stamp': <function version_stamp at 0x12bd363e0>, 'disk': <function disk at 0x12bd36840>, 'disk_heater': <function disk_heater at 0x12bd36980>, 'ring': <function ring at 0x12bd36b60>, 'ring_crow': <function ring_crow at 0x12bd36ca0>, 'ring_crow_couplers': <function ring_crow_couplers at 0x12bd36de0>, 'ring_double': <function ring_double at 0x12bd36f20>, 'ring_double_bend_coupler': <function ring_double_bend_coupler at 0x12bd37240>, 'ring_double_heater': <function ring_double_heater at 0x12bd372e0>, 'ring_double_pn': <function ring_double_pn at 0x12bd37560>, 'ring_single_pn': <function ring_single_pn at 0x12bd376a0>, 'ring_single': <function ring_single at 0x12bd377e0>, 'ring_single_array': <function ring_single_array at 0x12bd37920>, 'coupler_bend': <function coupler_bend at 0x12bd37a60>, 'coupler_ring_bend': <function coupler_ring_bend at 0x12bd37ba0>, 'ring_single_bend_coupler': <function ring_single_bend_coupler at 0x12bd37ce0>, 'ring_single_dut': <function ring_single_dut at 0x12bd37e20>, 'delay_snake': <function delay_snake at 0x12bd37f60>, 'delay_snake2': <function delay_snake2 at 0x12bd980e0>, 'delay_snake_sbend': <function delay_snake_sbend at 0x12bd98360>, 'spiral': <function spiral at 0x12bd98540>, 'spiral_double': <function spiral_double at 0x12bd98680>, 'spiral_racetrack': <function spiral_racetrack at 0x12bd98860>, 'spiral_racetrack_fixed_length': <function spiral_racetrack_fixed_length at 0x12bd989a0>, 'spiral_racetrack_heater_metal': <function spiral_racetrack_heater_metal at 0x12bd98b80>, 'spiral_racetrack_heater_doped': <function spiral_racetrack_heater_doped at 0x12bd98cc0>, 'spiral_inductor': <function spiral_inductor at 0x12bd98e00>, 'hline': <function hline at 0x12bd98fe0>, 'optimal_90deg': <function optimal_90deg at 0x12bd99120>, 'optimal_hairpin': <function optimal_hairpin at 0x12bd99300>, 'optimal_step': <function optimal_step at 0x12bd99440>, 'snspd': <function snspd at 0x12bd99580>, 'interdigital_capacitor': <function interdigital_capacitor at 0x12bd996c0>, 'ge_detector_straight_si_contacts': <function ge_detector_straight_si_contacts at 0x12bd99800>, 'edge_coupler_silicon': <function edge_coupler_silicon at 0x12bd99940>, 'edge_coupler_array': <function edge_coupler_array at 0x12bd99a80>, 'edge_coupler_array_with_loopback': <function edge_coupler_array_with_loopback at 0x12bd99bc0>}, virtual_factories={'virtual_bend_circular': <function virtual_bend_circular_factory.<locals>.virtual_bend_circular at 0x128075b20>, 'bend_euler': <function virtual_bend_euler_factory.<locals>.bend_euler at 0x128075d00>, 'virtual_straight': <function virtual_straight_factory.<locals>.virtual_straight at 0x128075ee0>, 'bend_circular_all_angle': <function bend_circular_all_angle at 0x12bc0d1c0>, 'bend_euler_all_angle': <function bend_euler_all_angle at 0x12bc0dc60>, 'straight_all_angle': <function straight_all_angle at 0x12bc7fd80>}, kcells={0: Unnamed_0: ports [], 0 instances, 1: Unnamed_1: ports [], 3 instances, 2: Unnamed_2: ports [], 3 instances, 3: Unnamed_3: ports [], 3 instances, 4: Unnamed_4: ports [], 2 instances, 5: Unnamed_5: ports ['o1', 'o2'], 0 instances, 6: Unnamed_6: ports ['o1', 'o2'], 0 instances, 7: Unnamed_7: ports ['o1', 'o2'], 0 instances, 8: Unnamed_8: ports [], 4 instances, 9: rectangle_S20_100_L2_0__1051e358: ports ['e1', 'e2', 'e3', 'e4'], 0 instances, 10: compass_S20_100_L2_0_PT_9f58c2a4: ports ['e1', 'e2', 'e3', 'e4'], 0 instances, 11: rectangle_S500_500_L2_0_32a0a3c9: ports ['e1', 'e2', 'e3', 'e4'], 0 instances, 12: compass_S500_500_L2_0_P_1e67b1d2: ports ['e1', 'e2', 'e3', 'e4'], 0 instances, 13: Unnamed_13: ports [], 1 instances, 14: Unnamed_14: ports [], 12 instances, 15: rectangle_S2_250_L9_0_C_24729edc: ports ['e1', 'e2', 'e3', 'e4'], 0 instances, 16: compass_S2_250_L9_0_PTe_065737c0: ports ['e1', 'e2', 'e3', 'e4'], 0 instances, 17: text_T250_S50_P0_0_Jleft_L1_0: ports [], 0 instances, 18: Unnamed_18: ports [], 0 instances, 19: Unnamed_19: ports [], 1 instances, 20: Unnamed_20: ports [], 2 instances, 21: Unnamed_21: ports [], 1 instances, 22: rectangle_S250_250_L3_0_c7294b59: ports ['e1', 'e2', 'e3', 'e4'], 0 instances, 23: compass_S250_250_L3_0_P_c02f9087: ports ['e1', 'e2', 'e3', 'e4'], 0 instances, 24: Unnamed_24: ports [], 1 instances, 25: Unnamed_25: ports [], 1 instances, 26: rectangle_S621p72_621p7_074833c5: ports ['e1', 'e2', 'e3', 'e4'], 0 instances, 27: compass_S621p72_621p72__15435a28: ports ['e1', 'e2', 'e3', 'e4'], 0 instances, 28: rectangle_S2_500_L9_0_C_5204bbcd: ports ['e1', 'e2', 'e3', 'e4'], 0 instances, 29: compass_S2_500_L9_0_PTe_5cde8025: ports ['e1', 'e2', 'e3', 'e4'], 0 instances, 30: text_T500_S50_P0_0_Jleft_L1_0: ports [], 0 instances, 31: Unnamed_31: ports [], 0 instances, 32: Unnamed_32: ports [], 1 instances, 33: Unnamed_33: ports [], 2 instances, 34: Unnamed_34: ports [], 1 instances, 35: rectangle_S500_500_L3_0_095cb746: ports ['e1', 'e2', 'e3', 'e4'], 0 instances, 36: compass_S500_500_L3_0_P_59134d96: ports ['e1', 'e2', 'e3', 'e4'], 0 instances, 37: Unnamed_37: ports [], 1 instances, 38: Unnamed_38: ports [], 1 instances, 39: rectangle_S871p72_871p7_6941abd5: ports ['e1', 'e2', 'e3', 'e4'], 0 instances, 40: compass_S871p72_871p72__b740553e: ports ['e1', 'e2', 'e3', 'e4'], 0 instances, 41: rectangle_S2_750_L9_0_C_2718df4b: ports ['e1', 'e2', 'e3', 'e4'], 0 instances, 42: compass_S2_750_L9_0_PTe_b69d3767: ports ['e1', 'e2', 'e3', 'e4'], 0 instances, 43: text_T750_S50_P0_0_Jleft_L1_0: ports [], 0 instances, 44: Unnamed_44: ports [], 0 instances, 45: Unnamed_45: ports [], 1 instances, 46: Unnamed_46: ports [], 2 instances, 47: Unnamed_47: ports [], 1 instances, 48: rectangle_S750_750_L3_0_6e5bab7c: ports ['e1', 'e2', 'e3', 'e4'], 0 instances, 49: compass_S750_750_L3_0_P_942b9506: ports ['e1', 'e2', 'e3', 'e4'], 0 instances, 50: Unnamed_50: ports [], 1 instances, 51: Unnamed_51: ports [], 1 instances, 52: rectangle_S1121p72_1121_35d847ae: ports ['e1', 'e2', 'e3', 'e4'], 0 instances, 53: compass_S1121p72_1121p7_57e835be: ports ['e1', 'e2', 'e3', 'e4'], 0 instances, 54: rectangle_S2_1000_L9_0__4b45e69f: ports ['e1', 'e2', 'e3', 'e4'], 0 instances, 55: compass_S2_1000_L9_0_PT_2fd35d5a: ports ['e1', 'e2', 'e3', 'e4'], 0 instances, 56: text_T1000_S50_P0_0_Jleft_L1_0: ports [], 0 instances, 57: Unnamed_57: ports [], 0 instances, 58: Unnamed_58: ports [], 1 instances, 59: Unnamed_59: ports [], 2 instances, 60: Unnamed_60: ports [], 1 instances, 61: rectangle_S1000_1000_L3_1ef5cb5c: ports ['e1', 'e2', 'e3', 'e4'], 0 instances, 62: compass_S1000_1000_L3_0_7986cd02: ports ['e1', 'e2', 'e3', 'e4'], 0 instances, 63: Unnamed_63: ports [], 1 instances, 64: Unnamed_64: ports [], 1 instances, 65: rectangle_S1371p72_1371_f5a3a8c9: ports ['e1', 'e2', 'e3', 'e4'], 0 instances, 66: compass_S1371p72_1371p7_25172cb1: ports ['e1', 'e2', 'e3', 'e4'], 0 instances, 67: Unnamed_67: ports [], 6 instances, 68: rectangle_S15000_10830__cd2686a7: ports ['e1', 'e2', 'e3', 'e4'], 0 instances, 69: compass_S15000_10830_L2_f8b9feaa: ports ['e1', 'e2', 'e3', 'e4'], 0 instances, 70: rectangle_S20000_15830__41eada1f: ports ['e1', 'e2', 'e3', 'e4'], 0 instances, 71: compass_S20000_15830_L2_6356cda4: ports ['e1', 'e2', 'e3', 'e4'], 0 instances, 72: Unnamed_72: ports [], 1 instances, 73: Unnamed_73: ports [], 0 instances, 74: Unnamed_74: ports [], 3 instances, 75: Unnamed_75: ports [], 2 instances, 76: Unnamed_76: ports ['o1', 'o2'], 0 instances, 77: Unnamed_77: ports ['o1', 'o2'], 0 instances, 78: Unnamed_78: ports ['o1', 'o2'], 0 instances, 79: Unnamed_79: ports [], 2 instances, 80: Unnamed_80: ports [], 0 instances, 81: Unnamed_81: ports [], 3 instances, 82: Unnamed_82: ports [], 2 instances, 83: Unnamed_83: ports ['o1', 'o2'], 0 instances, 84: Unnamed_84: ports ['o1', 'o2'], 0 instances, 85: Unnamed_85: ports ['o1', 'o2'], 0 instances, 86: Unnamed_86: ports [], 2 instances, 87: Unnamed_87: ports [], 0 instances, 88: Unnamed_88: ports [], 3 instances, 89: Unnamed_89: ports [], 3 instances, 90: Unnamed_90: ports ['o1', 'o2'], 0 instances, 91: Unnamed_91: ports ['o1', 'o2'], 0 instances, 92: Unnamed_92: ports ['o1', 'o2'], 0 instances, 93: rectangle_S0p4_2p6_L2_0_20f722b9: ports ['e1', 'e2', 'e3', 'e4'], 0 instances, 94: compass_S0p4_2p6_L2_0_P_a9159bcc: ports ['e1', 'e2', 'e3', 'e4'], 0 instances, 95: Unnamed_95: ports [], 2 instances, 96: Unnamed_96: ports [], 0 instances, 97: Unnamed_97: ports [], 3 instances, 98: Unnamed_98: ports [], 3 instances, 99: Unnamed_99: ports ['o1', 'o2'], 0 instances, 100: Unnamed_100: ports ['o1', 'o2'], 0 instances, 101: Unnamed_101: ports ['o1', 'o2'], 0 instances, 102: rectangle_S2_2_L2_0_CFa_c4eaf9ad: ports ['e1', 'e2', 'e3', 'e4'], 0 instances, 103: compass_S2_2_L2_0_PTele_f30b5ed8: ports ['e1', 'e2', 'e3', 'e4'], 0 instances, 104: Unnamed_104: ports [], 2 instances, 105: Unnamed_105: ports [], 3 instances, 106: Unnamed_106: ports [], 3 instances, 107: Unnamed_107: ports [], 3 instances, 108: Unnamed_108: ports [], 3 instances, 109: Unnamed_109: ports ['o1', 'o2'], 0 instances, 110: Unnamed_110: ports ['o1', 'o2'], 0 instances, 111: Unnamed_111: ports ['o1', 'o2'], 0 instances, 112: Unnamed_112: ports [], 4 instances, 113: Unnamed_113: ports [], 1 instances, 114: Unnamed_114: ports [], 12 instances, 115: rectangle_S5_250_L9_0_C_cb47bd6d: ports ['e1', 'e2', 'e3', 'e4'], 0 instances, 116: compass_S5_250_L9_0_PTe_b9adac16: ports ['e1', 'e2', 'e3', 'e4'], 0 instances, 117: Unnamed_117: ports [], 1 instances, 118: Unnamed_118: ports [], 2 instances, 119: Unnamed_119: ports [], 1 instances, 120: Unnamed_120: ports [], 1 instances, 121: Unnamed_121: ports [], 1 instances, 122: rectangle_S5_500_L9_0_C_e62bf42e: ports ['e1', 'e2', 'e3', 'e4'], 0 instances, 123: compass_S5_500_L9_0_PTe_16c1cdb1: ports ['e1', 'e2', 'e3', 'e4'], 0 instances, 124: Unnamed_124: ports [], 1 instances, 125: Unnamed_125: ports [], 2 instances, 126: Unnamed_126: ports [], 1 instances, 127: Unnamed_127: ports [], 1 instances, 128: Unnamed_128: ports [], 1 instances, 129: rectangle_S5_750_L9_0_C_198c20c0: ports ['e1', 'e2', 'e3', 'e4'], 0 instances, 130: compass_S5_750_L9_0_PTe_4b1e5c7f: ports ['e1', 'e2', 'e3', 'e4'], 0 instances, 131: Unnamed_131: ports [], 1 instances, 132: Unnamed_132: ports [], 2 instances, 133: Unnamed_133: ports [], 1 instances, 134: Unnamed_134: ports [], 1 instances, 135: Unnamed_135: ports [], 1 instances, 136: rectangle_S5_1000_L9_0__fad67572: ports ['e1', 'e2', 'e3', 'e4'], 0 instances, 137: compass_S5_1000_L9_0_PT_0585b061: ports ['e1', 'e2', 'e3', 'e4'], 0 instances, 138: Unnamed_138: ports [], 1 instances, 139: Unnamed_139: ports [], 2 instances, 140: Unnamed_140: ports [], 1 instances, 141: Unnamed_141: ports [], 1 instances, 142: Unnamed_142: ports [], 1 instances, 143: Unnamed_143: ports [], 6 instances, 144: Unnamed_144: ports [], 1 instances}, layers=<aenum 'LAYER'>, infos=LayerInfos(), layer_stack=LayerStack(layers={}), netlist_layer_mapping={}, sparameters_path=None, interconnect_cml_path=None, constants=Constants(), rename_function=<function rename_clockwise_multi at 0x10fb68ae0>, info=Info(), settings=KCellSettings(version='0.23.2', klayout_version='0.29.11', meta_format='v3'), future_cell_name=None, decorators=<kfactory.decorators.Decorators object at 0x118b98e90>) function_name=None basename=None boundary=None insts=<gdsfactory.component.ComponentReferences object at 0x12f2eb4d0> size_info=<kfactory.kcell.SizeInfo object at 0x12f2eb390> dsize_info=<kfactory.kcell.DSizeInfo object at 0x12f2eb190> routes={}"
      ]
     },
     "execution_count": 17,
     "metadata": {},
     "output_type": "execute_result"
    }
   ],
   "source": [
    "# boolean operation\n",
    "\n",
    "cell_temp.add_ref(fblock).move((-1000, 1600))\n",
    "# add order\n",
    "# cell_temp << order\n",
    "# frame\n",
    "frame1 = gf.components.rectangle(size=(15000, 10830), layer=(20, 0))\n",
    "cell_temp << frame1\n",
    "frame2 = gf.components.rectangle(size=(20000, 15830), layer=(21, 0))\n",
    "frame2_ref = cell_temp << frame2\n",
    "frame2_ref.move((-2500, -2500))\n",
    "\n",
    "cell_d_clamped_resistive = gf.Component()\n",
    "cell_ref = cell_d_clamped_resistive << cell_temp\n",
    "cell_ref.move((2500, 12500))\n",
    "# cell_d_clamped_resistive.show()\n",
    "# cell_d_clamped_resistive.write_gds(\"mesh.gds\")\n",
    "# cell_d_clamped_resistive.plot()"
   ]
  }
 ],
 "metadata": {
  "kernelspec": {
   "display_name": "Python 3",
   "language": "python",
   "name": "python3"
  },
  "language_info": {
   "codemirror_mode": {
    "name": "ipython",
    "version": 3
   },
   "file_extension": ".py",
   "mimetype": "text/x-python",
   "name": "python",
   "nbconvert_exporter": "python",
   "pygments_lexer": "ipython3",
   "version": "3.11.11"
  }
 },
 "nbformat": 4,
 "nbformat_minor": 2
}
