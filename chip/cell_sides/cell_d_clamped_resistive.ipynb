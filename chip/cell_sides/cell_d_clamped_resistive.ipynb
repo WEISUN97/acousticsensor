{
 "cells": [
  {
   "cell_type": "code",
   "execution_count": 3,
   "metadata": {},
   "outputs": [],
   "source": [
    "import sys\n",
    "# sys.path.append(\"/Users/bubble/Desktop/Project/Infrasound Sensor/Layout/Code/acousticsensor\")\n",
    "import numpy as np\n",
    "import gdsfactory as gf\n",
    "\n",
    "cell_temp = gf.Component()"
   ]
  },
  {
   "cell_type": "code",
   "execution_count": 4,
   "metadata": {},
   "outputs": [
    {
     "data": {
      "text/plain": [
       "Unnamed_16: ports [], vinsts=[] info=Info() kcl=KCLayout(name='DEFAULT', layout=<klayout.dbcore.Layout object at 0x1229013d0>, layer_enclosures=LayerEnclosureModel(root={'4fb2b992': LayerEnclosure(layer_sections={}, main_layer=9/0, yaml_tag='!Enclosure'), '5c226817': LayerEnclosure(layer_sections={}, main_layer=SLAB150 (2/0), yaml_tag='!Enclosure')}), cross_sections={'4fb2b992_250000': SymmetricalCrossSection(width=250000, enclosure=LayerEnclosure(layer_sections={}, main_layer=9/0, yaml_tag='!Enclosure'), name='4fb2b992_250000'), '4fb2b992_2000': SymmetricalCrossSection(width=2000, enclosure=LayerEnclosure(layer_sections={}, main_layer=9/0, yaml_tag='!Enclosure'), name='4fb2b992_2000'), '5c226817_10000': SymmetricalCrossSection(width=10000, enclosure=LayerEnclosure(layer_sections={}, main_layer=SLAB150 (2/0), yaml_tag='!Enclosure'), name='5c226817_10000'), '5c226817_400': SymmetricalCrossSection(width=400, enclosure=LayerEnclosure(layer_sections={}, main_layer=SLAB150 (2/0), yaml_tag='!Enclosure'), name='5c226817_400')}, enclosure=KCellEnclosure(enclosures=LayerEnclosureCollection(enclosures=[])), library=<klayout.dbcore.Library object at 0x1229008d0>, factories={'taper': <function taper at 0x134d0e8e0>, 'bend_s_bezier': <function bend_s_bezier_factory.<locals>.bend_s_bezier at 0x1229e0040>, 'bend_circular': <function bend_circular at 0x134d0d120>, 'bend_euler': <function bend_euler at 0x134d0dbc0>, 'bend_s_euler': <function bend_s_euler_factory.<locals>.bend_s_euler at 0x132e351c0>, 'straight': <function straight at 0x134d7fce0>, 'rotate': <function rotate at 0x134616340>, 'mirror': <function mirror at 0x134616480>, 'from_image': <function from_image at 0x13499c7c0>, 'floorplan_with_block_letters': <function floorplan_with_block_letters at 0x134c8c4a0>, 'bend_circular_heater': <function bend_circular_heater at 0x134d0d300>, 'bend_euler_s': <function bend_euler_s at 0x134d0d9e0>, 'bezier': <function bezier at 0x134d0df80>, 'bend_s': <function bend_s at 0x134d0e160>, 'add_fiber_array_optical_south_electrical_north': <function add_fiber_array_optical_south_electrical_north at 0x134d0e340>, 'ramp': <function ramp at 0x134d0e700>, 'taper_strip_to_ridge': <function taper_strip_to_ridge at 0x134d0e980>, 'taper_strip_to_ridge_trenches': <function taper_strip_to_ridge_trenches at 0x134d0ec00>, 'taper_sc_nc': <function taper_sc_nc at 0x134d0ed40>, 'taper_nc_sc': <function taper_nc_sc at 0x134d0ee80>, 'taper_adiabatic': <function taper_adiabatic at 0x134d0f100>, 'taper_cross_section': <function taper_cross_section at 0x134c8d300>, 'taper_from_csv': <function taper_from_csv at 0x134d0f1a0>, 'taper_parabolic': <function taper_parabolic at 0x134d0f2e0>, 'add_termination': <function add_termination at 0x134c8d800>, 'add_trenches': <function add_trenches at 0x134d0efc0>, 'array': <function array at 0x134d0f4c0>, 'copy_layers': <function copy_layers at 0x134d0f9c0>, 'extend_ports_list': <function extend_ports_list at 0x134d0fb00>, 'extend_ports': <function extend_ports at 0x134d0fd80>, 'pack_doe': <function pack_doe at 0x134d48540>, 'pack_doe_grid': <function pack_doe_grid at 0x134d48680>, 'splitter_chain': <function splitter_chain at 0x134d487c0>, 'mzi': <function mzi at 0x134d48c20>, 'mzi_lattice': <function mzi_lattice at 0x134d48ea0>, 'mzi_lattice_mmi': <function mzi_lattice_mmi at 0x134d48fe0>, 'mzi_pads_center': <function mzi_pads_center at 0x134d491c0>, 'mzit': <function mzit at 0x134d49300>, 'mzit_lattice': <function mzit_lattice at 0x134d49440>, 'splitter_tree': <function splitter_tree at 0x134d48e00>, 'coupler_symmetric': <function coupler_symmetric at 0x134d494e0>, 'coupler_straight': <function coupler_straight at 0x134d49620>, 'coupler': <function coupler at 0x134d49760>, 'coupler90': <function coupler90 at 0x134d498a0>, 'coupler90bend': <function coupler90bend at 0x134d49940>, 'coupler_adiabatic': <function coupler_adiabatic at 0x134d49c60>, 'coupler_asymmetric': <function coupler_asymmetric at 0x134d49ee0>, 'coupler_bent_half': <function coupler_bent_half at 0x134d4a160>, 'coupler_bent': <function coupler_bent at 0x134d4a2a0>, 'coupler_broadband': <function coupler_broadband at 0x134d4a520>, 'coupler_full': <function coupler_full at 0x134d4a660>, 'coupler_ring': <function coupler_ring at 0x134d4a840>, 'coupler_straight_asymmetric': <function coupler_straight_asymmetric at 0x134d4a980>, 'align_wafer': <function align_wafer at 0x134d4ac00>, 'add_frame': <function add_frame at 0x134d4aca0>, 'die': <function die at 0x134d4af20>, 'die_with_pads': <function die_with_pads at 0x134d4b060>, 'seal_ring': <function seal_ring at 0x134d4b1a0>, 'seal_ring_segmented': <function seal_ring_segmented at 0x134d4b2e0>, 'wafer': <function wafer at 0x134d4b420>, 'free_propagation_region': <function free_propagation_region at 0x134d4b740>, 'awg': <function awg at 0x134d4b7e0>, 'dbr_cell': <function dbr_cell at 0x134d4ba60>, 'dbr': <function dbr at 0x134d4bba0>, 'dbr_tapered': <function dbr_tapered at 0x134d4bd80>, 'bbox': <function bbox at 0x134d7c360>, 'C': <function C at 0x134d7c4a0>, 'circle': <function circle at 0x134d7c5e0>, 'compass': <function compass at 0x134d7c7c0>, 'cross': <function cross at 0x134d7c900>, 'ellipse': <function ellipse at 0x134d7ca40>, 'fiducial_squares': <function fiducial_squares at 0x134d7cb80>, 'L': <function L at 0x134d7ccc0>, 'nxn': <function nxn at 0x134d7ce00>, 'rectangle': <function rectangle at 0x134d7cf40>, 'rectangles': <function rectangles at 0x134d7d080>, 'regular_polygon': <function regular_polygon at 0x134d7d1c0>, 'triangle': <function triangle at 0x134d7d300>, 'triangle2': <function triangle2 at 0x134d7d440>, 'triangle4': <function triangle4 at 0x134d7d580>, 'fiber': <function fiber at 0x134d4bf60>, 'fiber_array': <function fiber_array at 0x134d7d4e0>, 'crossing_arm': <function crossing_arm at 0x134d7f6a0>, 'crossing': <function crossing at 0x134d7f7e0>, 'crossing_linear_taper': <function crossing_linear_taper at 0x134d7f920>, 'crossing_etched': <function crossing_etched at 0x134d7fa60>, 'crossing45': <function crossing45 at 0x134d7fba0>, 'straight_array': <function straight_array at 0x134d7ff60>, 'wire_straight': <function wire_straight at 0x134db00e0>, 'straight_heater_doped_rib': <function straight_heater_doped_rib at 0x134db0360>, 'straight_heater_doped_strip': <function straight_heater_doped_strip at 0x134db0540>, 'straight_heater_meander': <function straight_heater_meander at 0x134db0720>, 'via': <function via at 0x134db0cc0>, 'via_circular': <function via_circular at 0x134db0e00>, 'via_chain': <function via_chain at 0x134db1080>, 'via_corner': <function via_corner at 0x134db11c0>, 'via_stack': <function via_stack at 0x134db1300>, 'via_stack_corner45': <function via_stack_corner45 at 0x134db1440>, 'via_stack_corner45_extended': <function via_stack_corner45_extended at 0x134db1580>, 'via_stack_with_offset': <function via_stack_with_offset at 0x134db16c0>, 'straight_heater_meander_doped': <function straight_heater_meander_doped at 0x134db0a40>, 'straight_heater_metal_undercut': <function straight_heater_metal_undercut at 0x134db0ea0>, 'straight_heater_metal_simple': <function straight_heater_metal_simple at 0x134db1800>, 'straight_piecewise': <function straight_piecewise at 0x134db1940>, 'straight_pin': <function straight_pin at 0x134db19e0>, 'straight_pin_slot': <function straight_pin_slot at 0x134db1c60>, 'wire_corner': <function wire_corner at 0x134db1e40>, 'wire_corner45': <function wire_corner45 at 0x134db1f80>, 'wire_corner_sections': <function wire_corner_sections at 0x134db2020>, 'loop_mirror': <function loop_mirror at 0x134d7d620>, 'mode_converter': <function mode_converter at 0x134db3600>, 'polarization_splitter_rotator': <function polarization_splitter_rotator at 0x134db37e0>, 'terminator': <function terminator at 0x134db3ce0>, 'grating_coupler_array': <function grating_coupler_array at 0x134db3e20>, 'grating_coupler_dual_pol': <function grating_coupler_dual_pol at 0x134db3f60>, 'grating_coupler_elliptical': <function grating_coupler_elliptical at 0x134de8540>, 'grating_coupler_elliptical_arbitrary': <function grating_coupler_elliptical_arbitrary at 0x134de87c0>, 'grating_coupler_elliptical_uniform': <function grating_coupler_elliptical_uniform at 0x134de8a40>, 'grating_coupler_elliptical_lumerical': <function grating_coupler_elliptical_lumerical at 0x134de8b80>, 'grating_coupler_elliptical_trenches': <function grating_coupler_elliptical_trenches at 0x134de8c20>, 'grating_coupler_loss': <function grating_coupler_loss at 0x134de8ea0>, 'grating_coupler_rectangular': <function grating_coupler_rectangular at 0x134de8f40>, 'grating_coupler_rectangular_arbitrary': <function grating_coupler_rectangular_arbitrary at 0x134de91c0>, 'grating_coupler_tree': <function grating_coupler_tree at 0x134de9300>, 'mmi': <function mmi at 0x134de94e0>, 'mmi1x2': <function mmi1x2 at 0x134de9760>, 'mmi1x2_with_sbend': <function mmi1x2_with_sbend at 0x134de9940>, 'mmi2x2': <function mmi2x2 at 0x134de9bc0>, 'mmi2x2_with_sbend': <function mmi2x2_with_sbend at 0x134de9d00>, 'mmi_90degree_hybrid': <function mmi_90degree_hybrid at 0x134de9ee0>, 'mmi_tapered': <function mmi_tapered at 0x134dea160>, 'pad': <function pad at 0x134dea2a0>, 'pad_array': <function pad_array at 0x134dea520>, 'pad_gsg_short': <function pad_gsg_short at 0x134dea700>, 'pads_shorted': <function pads_shorted at 0x134dea8e0>, 'rectangle_with_slits': <function rectangle_with_slits at 0x134deaa20>, 'cavity': <function cavity at 0x134deab60>, 'cdsem_all': <function cdsem_all at 0x134dead40>, 'cdsem_bend180': <function cdsem_bend180 at 0x134deae80>, 'cdsem_coupler': <function cdsem_coupler at 0x134deaf20>, 'cdsem_straight': <function cdsem_straight at 0x134deb1a0>, 'cdsem_straight_density': <function cdsem_straight_density at 0x134deb2e0>, '_bendu_double': <function _bendu_double at 0x134deb4c0>, '_straight_double': <function _straight_double at 0x134deb600>, 'cutback_2x2': <function cutback_2x2 at 0x134deb740>, 'cutback_bend': <function cutback_bend at 0x134deba60>, 'cutback_bend90': <function cutback_bend90 at 0x134debba0>, 'staircase': <function staircase at 0x134debce0>, 'cutback_bend180': <function cutback_bend180 at 0x134debe20>, 'cutback_component': <function cutback_component at 0x134debf60>, 'cutback_splitter': <function cutback_splitter at 0x134f34220>, 'greek_cross': <function greek_cross at 0x134f342c0>, 'greek_cross_with_pads': <function greek_cross_with_pads at 0x134f34540>, 'litho_calipers': <function litho_calipers at 0x134f34680>, 'litho_ruler': <function litho_ruler at 0x134f34900>, 'litho_steps': <function litho_steps at 0x134f34a40>, 'resistance_meander': <function resistance_meander at 0x134f34b80>, 'resistance_sheet': <function resistance_sheet at 0x134f34cc0>, 'verniers': <function verniers at 0x134f34e00>, 'text': <function text at 0x134f35940>, 'text_lines': <function text_lines at 0x134f35b20>, 'text_klayout': <function text_klayout at 0x134f35c60>, 'text_freetype': <function text_freetype at 0x134f35ee0>, 'pixel_array': <function pixel_array at 0x134f36160>, 'text_rectangular': <function text_rectangular at 0x134f362a0>, 'text_rectangular_multi_layer': <function text_rectangular_multi_layer at 0x134f363e0>, 'pixel': <function pixel at 0x134f34fe0>, 'qrcode': <function qrcode at 0x134f360c0>, 'version_stamp': <function version_stamp at 0x134f36480>, 'disk': <function disk at 0x134f368e0>, 'disk_heater': <function disk_heater at 0x134f36a20>, 'ring': <function ring at 0x134f36c00>, 'ring_crow': <function ring_crow at 0x134f36d40>, 'ring_crow_couplers': <function ring_crow_couplers at 0x134f36e80>, 'ring_double': <function ring_double at 0x134f36fc0>, 'ring_double_bend_coupler': <function ring_double_bend_coupler at 0x134f372e0>, 'ring_double_heater': <function ring_double_heater at 0x134f37380>, 'ring_double_pn': <function ring_double_pn at 0x134f37600>, 'ring_single_pn': <function ring_single_pn at 0x134f37740>, 'ring_single': <function ring_single at 0x134f37880>, 'ring_single_array': <function ring_single_array at 0x134f379c0>, 'coupler_bend': <function coupler_bend at 0x134f37b00>, 'coupler_ring_bend': <function coupler_ring_bend at 0x134f37c40>, 'ring_single_bend_coupler': <function ring_single_bend_coupler at 0x134f37d80>, 'ring_single_dut': <function ring_single_dut at 0x134f37ec0>, 'delay_snake': <function delay_snake at 0x134f37f60>, 'delay_snake2': <function delay_snake2 at 0x134f98180>, 'delay_snake_sbend': <function delay_snake_sbend at 0x134f98400>, 'spiral': <function spiral at 0x134f985e0>, 'spiral_double': <function spiral_double at 0x134f98720>, 'spiral_racetrack': <function spiral_racetrack at 0x134f98900>, 'spiral_racetrack_fixed_length': <function spiral_racetrack_fixed_length at 0x134f98a40>, 'spiral_racetrack_heater_metal': <function spiral_racetrack_heater_metal at 0x134f98c20>, 'spiral_racetrack_heater_doped': <function spiral_racetrack_heater_doped at 0x134f98d60>, 'spiral_inductor': <function spiral_inductor at 0x134f98ea0>, 'hline': <function hline at 0x134f99080>, 'optimal_90deg': <function optimal_90deg at 0x134f991c0>, 'optimal_hairpin': <function optimal_hairpin at 0x134f993a0>, 'optimal_step': <function optimal_step at 0x134f994e0>, 'snspd': <function snspd at 0x134f99620>, 'interdigital_capacitor': <function interdigital_capacitor at 0x134f99760>, 'ge_detector_straight_si_contacts': <function ge_detector_straight_si_contacts at 0x134f998a0>, 'edge_coupler_silicon': <function edge_coupler_silicon at 0x134f999e0>, 'edge_coupler_array': <function edge_coupler_array at 0x134f99b20>, 'edge_coupler_array_with_loopback': <function edge_coupler_array_with_loopback at 0x134f99c60>}, virtual_factories={'virtual_bend_circular': <function virtual_bend_circular_factory.<locals>.virtual_bend_circular at 0x132e35bc0>, 'bend_euler': <function virtual_bend_euler_factory.<locals>.bend_euler at 0x132e35da0>, 'virtual_straight': <function virtual_straight_factory.<locals>.virtual_straight at 0x132e35f80>, 'bend_circular_all_angle': <function bend_circular_all_angle at 0x134d0d260>, 'bend_euler_all_angle': <function bend_euler_all_angle at 0x134d0dd00>, 'straight_all_angle': <function straight_all_angle at 0x134d7fe20>}, kcells={0: Unnamed_0: ports [], 0 instances, 1: Unnamed_1: ports [], 0 instances, 2: Unnamed_2: ports [], 1 instances, 3: rectangle_S2_250_L9_0_C_24729edc: ports ['e1', 'e2', 'e3', 'e4'], 0 instances, 4: compass_S2_250_L9_0_PTe_065737c0: ports ['e1', 'e2', 'e3', 'e4'], 0 instances, 5: text_T250_S50_P0_0_Jleft_L1_0: ports [], 0 instances, 6: Unnamed_6: ports [], 0 instances, 7: Unnamed_7: ports [], 0 instances, 8: Unnamed_8: ports [], 0 instances, 9: Unnamed_9: ports [], 0 instances, 10: Unnamed_10: ports [], 0 instances, 11: Unnamed_11: ports [], 3 instances, 12: Unnamed_12: ports [], 2 instances, 13: Unnamed_13: ports ['o1', 'o2'], 0 instances, 14: Unnamed_14: ports ['o1', 'o2'], 0 instances, 15: Unnamed_15: ports ['o1', 'o2'], 0 instances, 16: Unnamed_16: ports [], 2 instances}, layers=<aenum 'LAYER'>, infos=LayerInfos(), layer_stack=LayerStack(layers={}), netlist_layer_mapping={}, sparameters_path=None, interconnect_cml_path=None, constants=Constants(), rename_function=<function rename_clockwise_multi at 0x12262cae0>, info=Info(), settings=KCellSettings(version='0.23.2', klayout_version='0.29.11', meta_format='v3'), future_cell_name=None, decorators=<kfactory.decorators.Decorators object at 0x122697f50>) function_name=None basename=None boundary=None insts=<gdsfactory.component.ComponentReferences object at 0x15828d650> size_info=<kfactory.kcell.SizeInfo object at 0x137c24990> dsize_info=<kfactory.kcell.DSizeInfo object at 0x15828d690> routes={}"
      ]
     },
     "execution_count": 4,
     "metadata": {},
     "output_type": "execute_result"
    }
   ],
   "source": [
    "# pad and lines\n",
    "pad = gf.Component()\n",
    "\n",
    "# lines\n",
    "line_base = gf.Component()\n",
    "line_half = gf.Component()\n",
    "# define the cross section\n",
    "w1 = 10\n",
    "w2 = 0.4  \n",
    "s1 = gf.Section(width=w1, offset=0, layer=(2, 0), name=\"1\", port_names=(\"o1\", \"o2\"))\n",
    "X1 = gf.CrossSection(sections=[s1])\n",
    "s2 = gf.Section(width=w2, offset=0, layer=(2, 0), name=\"1\", port_names=(\"o1\", \"o2\"))\n",
    "X2 = gf.CrossSection(sections=[s2])\n",
    "# define the path\n",
    "# define distance\n",
    "d1 = 200\n",
    "radius = 20\n",
    "h1 = 20\n",
    "d5 = 0.4\n",
    "p1 = gf.path.straight(length=d1)\n",
    "p = p1\n",
    "wg1 = gf.path.extrude(p, X1)\n",
    "p4 = gf.path.arc(radius=radius, angle=-90)\n",
    "Xtrans = gf.path.transition(cross_section1=X1, cross_section2=X2, width_type=\"sine\")\n",
    "curve_transition = gf.path.extrude_transition(p4, Xtrans)\n",
    "\n",
    "wg1_ref = line_base << wg1\n",
    "wg2_ref = line_base << curve_transition\n",
    "wg2_ref.connect(\"o1\", wg1_ref.ports[\"o2\"])\n",
    "\n",
    "P = gf.Path()\n",
    "p5 = gf.path.straight(length=h1)\n",
    "p6 = gf.path.straight(length=d5)\n",
    "P += p5\n",
    "P.end_angle += 90  # \"Turn\" 90 deg (left)\n",
    "P += p6\n",
    "wg3 = gf.path.extrude(P, X2)\n",
    "wg3_ref = line_base << wg3\n",
    "wg3_ref.connect(\"o1\", wg2_ref.ports[\"o2\"])\n",
    "\n",
    "# line_base.show()\n",
    "d = d1+radius+d5\n",
    "line_base_ref1 = line_half << line_base\n",
    "line_base_ref2 = line_half << line_base\n",
    "line_base_ref2.dmirror_x(d)\n",
    "\n",
    "pad1 = gf.Component()\n",
    "pad1.add_ref(line_half)\n",
    "pad1.add_ref(line_half).drotate(angle=180, center=(2*d, 0))\n",
    "# pad.show()\n",
    "\n",
    "\n"
   ]
  },
  {
   "cell_type": "code",
   "execution_count": null,
   "metadata": {},
   "outputs": [],
   "source": [
    "# pads\n",
    "pad_size = 500\n",
    "h2 = 100\n",
    "w3 = 20\n",
    "line_vertical = gf.components.rectangle(size=(w3, h2), layer=(2, 0))\n",
    "pad.add_ref(line_vertical).move((2*d-w3/2, -h2-w1/2))\n",
    "sg_pad = gf.components.rectangle(size=(pad_size, pad_size), layer=(2, 0))\n",
    "# pad1: two pads without the mid pad\n",
    "pad1.add_ref(sg_pad).move((-pad_size, w1/2-pad_size))\n",
    "pad1.add_ref(sg_pad).move((4*d, w1/2-pad_size))\n",
    "pad.add_ref(sg_pad).move((2*d-pad_size/2, -w1/2-pad_size-h2))\n",
    "\n",
    "pad << pad1\n",
    "# all pads and lines at the bottom\n",
    "pad.show()\n",
    "\n"
   ]
  },
  {
   "cell_type": "code",
   "execution_count": 6,
   "metadata": {},
   "outputs": [],
   "source": [
    "# cell\n",
    "L = [250, 500, 750, 1000]\n",
    "w = 2\n",
    "block = gf.Component()\n",
    "block_temp = gf.Component()\n",
    "origin = [0, 0]\n",
    "\n",
    "for i in range(len(L)):\n",
    "    # add beam\n",
    "    beam = gf.components.rectangle(size=(w, L[i]), layer=(9, 0))\n",
    "    # length mark\n",
    "    T = gf.components.text(f\"{L[i]}\", size=50, layer=(1, 0))\n",
    "    T_ref = block_temp << T\n",
    "    # add pad\n",
    "    pad2 = gf.Component()\n",
    "    pad_temp = gf.Component()\n",
    "    pad2.add_ref(pad1).dmirror_y(L[i]/2+radius)\n",
    "    pad_temp << pad2\n",
    "    pad_temp << pad\n",
    "    pad_ref = block_temp << pad_temp\n",
    "    # add backside frame\n",
    "    frame_temp = gf.Component()\n",
    "    size = L[i]\n",
    "    frame = gf.components.rectangle(size=(size, size), layer=(3, 0))\n",
    "    frame_temp.add_ref(frame).movex(-size/2+w/2)\n",
    "    beam_temp = gf.boolean(A = frame_temp, B = beam,  operation=\"not\", layer1=(3, 0), layer2=(9, 0), layer=(1, 0))\n",
    "    # add backside etch\n",
    "    size2 = 371.72 + size\n",
    "    backside_temp = gf.Component()\n",
    "    backside = gf.components.rectangle(size=(size2, size2), layer=(3, 0))\n",
    "    backside_temp.add_ref(backside).move((-(size2-size)/2-size/2+w/2, -(size2-size)/2))\n",
    "    beam_temp << backside_temp\n",
    "    beam_ref = block_temp << beam_temp\n",
    "    # adjust position\n",
    "    beam_ref.movey(2500*i-250)\n",
    "    T_ref.movey(2500*i-250-700)\n",
    "    pad_ref.move((-3*d+w/2, 2500*i-250-radius))\n",
    "\n",
    "block << block_temp\n",
    "block.show()"
   ]
  },
  {
   "cell_type": "code",
   "execution_count": 7,
   "metadata": {},
   "outputs": [],
   "source": [
    "# structure for each die\n",
    "# structure for a block\n",
    "fblock = gf.Component()\n",
    "for i in range(6):\n",
    "    block_ref = fblock << block\n",
    "    block_ref.move((2500*(i+1), 0))\n"
   ]
  },
  {
   "cell_type": "code",
   "execution_count": 8,
   "metadata": {},
   "outputs": [
    {
     "data": {
      "text/plain": [
       "Unnamed_76: ports [], vinsts=[] info=Info() kcl=KCLayout(name='DEFAULT', layout=<klayout.dbcore.Layout object at 0x1229013d0>, layer_enclosures=LayerEnclosureModel(root={'4fb2b992': LayerEnclosure(layer_sections={}, main_layer=9/0, yaml_tag='!Enclosure'), '5c226817': LayerEnclosure(layer_sections={}, main_layer=SLAB150 (2/0), yaml_tag='!Enclosure'), '56396fc8': LayerEnclosure(layer_sections={}, main_layer=SLAB90 (3/0), yaml_tag='!Enclosure'), '6b4bcfc2': LayerEnclosure(layer_sections={}, main_layer=N (20/0), yaml_tag='!Enclosure'), 'a5f0d270': LayerEnclosure(layer_sections={}, main_layer=P (21/0), yaml_tag='!Enclosure')}), cross_sections={'4fb2b992_250000': SymmetricalCrossSection(width=250000, enclosure=LayerEnclosure(layer_sections={}, main_layer=9/0, yaml_tag='!Enclosure'), name='4fb2b992_250000'), '4fb2b992_2000': SymmetricalCrossSection(width=2000, enclosure=LayerEnclosure(layer_sections={}, main_layer=9/0, yaml_tag='!Enclosure'), name='4fb2b992_2000'), '5c226817_10000': SymmetricalCrossSection(width=10000, enclosure=LayerEnclosure(layer_sections={}, main_layer=SLAB150 (2/0), yaml_tag='!Enclosure'), name='5c226817_10000'), '5c226817_400': SymmetricalCrossSection(width=400, enclosure=LayerEnclosure(layer_sections={}, main_layer=SLAB150 (2/0), yaml_tag='!Enclosure'), name='5c226817_400'), '5c226817_100000': SymmetricalCrossSection(width=100000, enclosure=LayerEnclosure(layer_sections={}, main_layer=SLAB150 (2/0), yaml_tag='!Enclosure'), name='5c226817_100000'), '5c226817_20000': SymmetricalCrossSection(width=20000, enclosure=LayerEnclosure(layer_sections={}, main_layer=SLAB150 (2/0), yaml_tag='!Enclosure'), name='5c226817_20000'), '5c226817_500000': SymmetricalCrossSection(width=500000, enclosure=LayerEnclosure(layer_sections={}, main_layer=SLAB150 (2/0), yaml_tag='!Enclosure'), name='5c226817_500000'), '56396fc8_250000': SymmetricalCrossSection(width=250000, enclosure=LayerEnclosure(layer_sections={}, main_layer=SLAB90 (3/0), yaml_tag='!Enclosure'), name='56396fc8_250000'), '56396fc8_621720': SymmetricalCrossSection(width=621720, enclosure=LayerEnclosure(layer_sections={}, main_layer=SLAB90 (3/0), yaml_tag='!Enclosure'), name='56396fc8_621720'), '4fb2b992_500000': SymmetricalCrossSection(width=500000, enclosure=LayerEnclosure(layer_sections={}, main_layer=9/0, yaml_tag='!Enclosure'), name='4fb2b992_500000'), '56396fc8_500000': SymmetricalCrossSection(width=500000, enclosure=LayerEnclosure(layer_sections={}, main_layer=SLAB90 (3/0), yaml_tag='!Enclosure'), name='56396fc8_500000'), '56396fc8_871720': SymmetricalCrossSection(width=871720, enclosure=LayerEnclosure(layer_sections={}, main_layer=SLAB90 (3/0), yaml_tag='!Enclosure'), name='56396fc8_871720'), '4fb2b992_750000': SymmetricalCrossSection(width=750000, enclosure=LayerEnclosure(layer_sections={}, main_layer=9/0, yaml_tag='!Enclosure'), name='4fb2b992_750000'), '56396fc8_750000': SymmetricalCrossSection(width=750000, enclosure=LayerEnclosure(layer_sections={}, main_layer=SLAB90 (3/0), yaml_tag='!Enclosure'), name='56396fc8_750000'), '56396fc8_1121720': SymmetricalCrossSection(width=1121720, enclosure=LayerEnclosure(layer_sections={}, main_layer=SLAB90 (3/0), yaml_tag='!Enclosure'), name='56396fc8_1121720'), '4fb2b992_1000000': SymmetricalCrossSection(width=1000000, enclosure=LayerEnclosure(layer_sections={}, main_layer=9/0, yaml_tag='!Enclosure'), name='4fb2b992_1000000'), '56396fc8_1000000': SymmetricalCrossSection(width=1000000, enclosure=LayerEnclosure(layer_sections={}, main_layer=SLAB90 (3/0), yaml_tag='!Enclosure'), name='56396fc8_1000000'), '56396fc8_1371720': SymmetricalCrossSection(width=1371720, enclosure=LayerEnclosure(layer_sections={}, main_layer=SLAB90 (3/0), yaml_tag='!Enclosure'), name='56396fc8_1371720'), '6b4bcfc2_10830000': SymmetricalCrossSection(width=10830000, enclosure=LayerEnclosure(layer_sections={}, main_layer=N (20/0), yaml_tag='!Enclosure'), name='6b4bcfc2_10830000'), '6b4bcfc2_15000000': SymmetricalCrossSection(width=15000000, enclosure=LayerEnclosure(layer_sections={}, main_layer=N (20/0), yaml_tag='!Enclosure'), name='6b4bcfc2_15000000'), 'a5f0d270_15830000': SymmetricalCrossSection(width=15830000, enclosure=LayerEnclosure(layer_sections={}, main_layer=P (21/0), yaml_tag='!Enclosure'), name='a5f0d270_15830000'), 'a5f0d270_20000000': SymmetricalCrossSection(width=20000000, enclosure=LayerEnclosure(layer_sections={}, main_layer=P (21/0), yaml_tag='!Enclosure'), name='a5f0d270_20000000')}, enclosure=KCellEnclosure(enclosures=LayerEnclosureCollection(enclosures=[])), library=<klayout.dbcore.Library object at 0x1229008d0>, factories={'taper': <function taper at 0x134d0e8e0>, 'bend_s_bezier': <function bend_s_bezier_factory.<locals>.bend_s_bezier at 0x1229e0040>, 'bend_circular': <function bend_circular at 0x134d0d120>, 'bend_euler': <function bend_euler at 0x134d0dbc0>, 'bend_s_euler': <function bend_s_euler_factory.<locals>.bend_s_euler at 0x132e351c0>, 'straight': <function straight at 0x134d7fce0>, 'rotate': <function rotate at 0x134616340>, 'mirror': <function mirror at 0x134616480>, 'from_image': <function from_image at 0x13499c7c0>, 'floorplan_with_block_letters': <function floorplan_with_block_letters at 0x134c8c4a0>, 'bend_circular_heater': <function bend_circular_heater at 0x134d0d300>, 'bend_euler_s': <function bend_euler_s at 0x134d0d9e0>, 'bezier': <function bezier at 0x134d0df80>, 'bend_s': <function bend_s at 0x134d0e160>, 'add_fiber_array_optical_south_electrical_north': <function add_fiber_array_optical_south_electrical_north at 0x134d0e340>, 'ramp': <function ramp at 0x134d0e700>, 'taper_strip_to_ridge': <function taper_strip_to_ridge at 0x134d0e980>, 'taper_strip_to_ridge_trenches': <function taper_strip_to_ridge_trenches at 0x134d0ec00>, 'taper_sc_nc': <function taper_sc_nc at 0x134d0ed40>, 'taper_nc_sc': <function taper_nc_sc at 0x134d0ee80>, 'taper_adiabatic': <function taper_adiabatic at 0x134d0f100>, 'taper_cross_section': <function taper_cross_section at 0x134c8d300>, 'taper_from_csv': <function taper_from_csv at 0x134d0f1a0>, 'taper_parabolic': <function taper_parabolic at 0x134d0f2e0>, 'add_termination': <function add_termination at 0x134c8d800>, 'add_trenches': <function add_trenches at 0x134d0efc0>, 'array': <function array at 0x134d0f4c0>, 'copy_layers': <function copy_layers at 0x134d0f9c0>, 'extend_ports_list': <function extend_ports_list at 0x134d0fb00>, 'extend_ports': <function extend_ports at 0x134d0fd80>, 'pack_doe': <function pack_doe at 0x134d48540>, 'pack_doe_grid': <function pack_doe_grid at 0x134d48680>, 'splitter_chain': <function splitter_chain at 0x134d487c0>, 'mzi': <function mzi at 0x134d48c20>, 'mzi_lattice': <function mzi_lattice at 0x134d48ea0>, 'mzi_lattice_mmi': <function mzi_lattice_mmi at 0x134d48fe0>, 'mzi_pads_center': <function mzi_pads_center at 0x134d491c0>, 'mzit': <function mzit at 0x134d49300>, 'mzit_lattice': <function mzit_lattice at 0x134d49440>, 'splitter_tree': <function splitter_tree at 0x134d48e00>, 'coupler_symmetric': <function coupler_symmetric at 0x134d494e0>, 'coupler_straight': <function coupler_straight at 0x134d49620>, 'coupler': <function coupler at 0x134d49760>, 'coupler90': <function coupler90 at 0x134d498a0>, 'coupler90bend': <function coupler90bend at 0x134d49940>, 'coupler_adiabatic': <function coupler_adiabatic at 0x134d49c60>, 'coupler_asymmetric': <function coupler_asymmetric at 0x134d49ee0>, 'coupler_bent_half': <function coupler_bent_half at 0x134d4a160>, 'coupler_bent': <function coupler_bent at 0x134d4a2a0>, 'coupler_broadband': <function coupler_broadband at 0x134d4a520>, 'coupler_full': <function coupler_full at 0x134d4a660>, 'coupler_ring': <function coupler_ring at 0x134d4a840>, 'coupler_straight_asymmetric': <function coupler_straight_asymmetric at 0x134d4a980>, 'align_wafer': <function align_wafer at 0x134d4ac00>, 'add_frame': <function add_frame at 0x134d4aca0>, 'die': <function die at 0x134d4af20>, 'die_with_pads': <function die_with_pads at 0x134d4b060>, 'seal_ring': <function seal_ring at 0x134d4b1a0>, 'seal_ring_segmented': <function seal_ring_segmented at 0x134d4b2e0>, 'wafer': <function wafer at 0x134d4b420>, 'free_propagation_region': <function free_propagation_region at 0x134d4b740>, 'awg': <function awg at 0x134d4b7e0>, 'dbr_cell': <function dbr_cell at 0x134d4ba60>, 'dbr': <function dbr at 0x134d4bba0>, 'dbr_tapered': <function dbr_tapered at 0x134d4bd80>, 'bbox': <function bbox at 0x134d7c360>, 'C': <function C at 0x134d7c4a0>, 'circle': <function circle at 0x134d7c5e0>, 'compass': <function compass at 0x134d7c7c0>, 'cross': <function cross at 0x134d7c900>, 'ellipse': <function ellipse at 0x134d7ca40>, 'fiducial_squares': <function fiducial_squares at 0x134d7cb80>, 'L': <function L at 0x134d7ccc0>, 'nxn': <function nxn at 0x134d7ce00>, 'rectangle': <function rectangle at 0x134d7cf40>, 'rectangles': <function rectangles at 0x134d7d080>, 'regular_polygon': <function regular_polygon at 0x134d7d1c0>, 'triangle': <function triangle at 0x134d7d300>, 'triangle2': <function triangle2 at 0x134d7d440>, 'triangle4': <function triangle4 at 0x134d7d580>, 'fiber': <function fiber at 0x134d4bf60>, 'fiber_array': <function fiber_array at 0x134d7d4e0>, 'crossing_arm': <function crossing_arm at 0x134d7f6a0>, 'crossing': <function crossing at 0x134d7f7e0>, 'crossing_linear_taper': <function crossing_linear_taper at 0x134d7f920>, 'crossing_etched': <function crossing_etched at 0x134d7fa60>, 'crossing45': <function crossing45 at 0x134d7fba0>, 'straight_array': <function straight_array at 0x134d7ff60>, 'wire_straight': <function wire_straight at 0x134db00e0>, 'straight_heater_doped_rib': <function straight_heater_doped_rib at 0x134db0360>, 'straight_heater_doped_strip': <function straight_heater_doped_strip at 0x134db0540>, 'straight_heater_meander': <function straight_heater_meander at 0x134db0720>, 'via': <function via at 0x134db0cc0>, 'via_circular': <function via_circular at 0x134db0e00>, 'via_chain': <function via_chain at 0x134db1080>, 'via_corner': <function via_corner at 0x134db11c0>, 'via_stack': <function via_stack at 0x134db1300>, 'via_stack_corner45': <function via_stack_corner45 at 0x134db1440>, 'via_stack_corner45_extended': <function via_stack_corner45_extended at 0x134db1580>, 'via_stack_with_offset': <function via_stack_with_offset at 0x134db16c0>, 'straight_heater_meander_doped': <function straight_heater_meander_doped at 0x134db0a40>, 'straight_heater_metal_undercut': <function straight_heater_metal_undercut at 0x134db0ea0>, 'straight_heater_metal_simple': <function straight_heater_metal_simple at 0x134db1800>, 'straight_piecewise': <function straight_piecewise at 0x134db1940>, 'straight_pin': <function straight_pin at 0x134db19e0>, 'straight_pin_slot': <function straight_pin_slot at 0x134db1c60>, 'wire_corner': <function wire_corner at 0x134db1e40>, 'wire_corner45': <function wire_corner45 at 0x134db1f80>, 'wire_corner_sections': <function wire_corner_sections at 0x134db2020>, 'loop_mirror': <function loop_mirror at 0x134d7d620>, 'mode_converter': <function mode_converter at 0x134db3600>, 'polarization_splitter_rotator': <function polarization_splitter_rotator at 0x134db37e0>, 'terminator': <function terminator at 0x134db3ce0>, 'grating_coupler_array': <function grating_coupler_array at 0x134db3e20>, 'grating_coupler_dual_pol': <function grating_coupler_dual_pol at 0x134db3f60>, 'grating_coupler_elliptical': <function grating_coupler_elliptical at 0x134de8540>, 'grating_coupler_elliptical_arbitrary': <function grating_coupler_elliptical_arbitrary at 0x134de87c0>, 'grating_coupler_elliptical_uniform': <function grating_coupler_elliptical_uniform at 0x134de8a40>, 'grating_coupler_elliptical_lumerical': <function grating_coupler_elliptical_lumerical at 0x134de8b80>, 'grating_coupler_elliptical_trenches': <function grating_coupler_elliptical_trenches at 0x134de8c20>, 'grating_coupler_loss': <function grating_coupler_loss at 0x134de8ea0>, 'grating_coupler_rectangular': <function grating_coupler_rectangular at 0x134de8f40>, 'grating_coupler_rectangular_arbitrary': <function grating_coupler_rectangular_arbitrary at 0x134de91c0>, 'grating_coupler_tree': <function grating_coupler_tree at 0x134de9300>, 'mmi': <function mmi at 0x134de94e0>, 'mmi1x2': <function mmi1x2 at 0x134de9760>, 'mmi1x2_with_sbend': <function mmi1x2_with_sbend at 0x134de9940>, 'mmi2x2': <function mmi2x2 at 0x134de9bc0>, 'mmi2x2_with_sbend': <function mmi2x2_with_sbend at 0x134de9d00>, 'mmi_90degree_hybrid': <function mmi_90degree_hybrid at 0x134de9ee0>, 'mmi_tapered': <function mmi_tapered at 0x134dea160>, 'pad': <function pad at 0x134dea2a0>, 'pad_array': <function pad_array at 0x134dea520>, 'pad_gsg_short': <function pad_gsg_short at 0x134dea700>, 'pads_shorted': <function pads_shorted at 0x134dea8e0>, 'rectangle_with_slits': <function rectangle_with_slits at 0x134deaa20>, 'cavity': <function cavity at 0x134deab60>, 'cdsem_all': <function cdsem_all at 0x134dead40>, 'cdsem_bend180': <function cdsem_bend180 at 0x134deae80>, 'cdsem_coupler': <function cdsem_coupler at 0x134deaf20>, 'cdsem_straight': <function cdsem_straight at 0x134deb1a0>, 'cdsem_straight_density': <function cdsem_straight_density at 0x134deb2e0>, '_bendu_double': <function _bendu_double at 0x134deb4c0>, '_straight_double': <function _straight_double at 0x134deb600>, 'cutback_2x2': <function cutback_2x2 at 0x134deb740>, 'cutback_bend': <function cutback_bend at 0x134deba60>, 'cutback_bend90': <function cutback_bend90 at 0x134debba0>, 'staircase': <function staircase at 0x134debce0>, 'cutback_bend180': <function cutback_bend180 at 0x134debe20>, 'cutback_component': <function cutback_component at 0x134debf60>, 'cutback_splitter': <function cutback_splitter at 0x134f34220>, 'greek_cross': <function greek_cross at 0x134f342c0>, 'greek_cross_with_pads': <function greek_cross_with_pads at 0x134f34540>, 'litho_calipers': <function litho_calipers at 0x134f34680>, 'litho_ruler': <function litho_ruler at 0x134f34900>, 'litho_steps': <function litho_steps at 0x134f34a40>, 'resistance_meander': <function resistance_meander at 0x134f34b80>, 'resistance_sheet': <function resistance_sheet at 0x134f34cc0>, 'verniers': <function verniers at 0x134f34e00>, 'text': <function text at 0x134f35940>, 'text_lines': <function text_lines at 0x134f35b20>, 'text_klayout': <function text_klayout at 0x134f35c60>, 'text_freetype': <function text_freetype at 0x134f35ee0>, 'pixel_array': <function pixel_array at 0x134f36160>, 'text_rectangular': <function text_rectangular at 0x134f362a0>, 'text_rectangular_multi_layer': <function text_rectangular_multi_layer at 0x134f363e0>, 'pixel': <function pixel at 0x134f34fe0>, 'qrcode': <function qrcode at 0x134f360c0>, 'version_stamp': <function version_stamp at 0x134f36480>, 'disk': <function disk at 0x134f368e0>, 'disk_heater': <function disk_heater at 0x134f36a20>, 'ring': <function ring at 0x134f36c00>, 'ring_crow': <function ring_crow at 0x134f36d40>, 'ring_crow_couplers': <function ring_crow_couplers at 0x134f36e80>, 'ring_double': <function ring_double at 0x134f36fc0>, 'ring_double_bend_coupler': <function ring_double_bend_coupler at 0x134f372e0>, 'ring_double_heater': <function ring_double_heater at 0x134f37380>, 'ring_double_pn': <function ring_double_pn at 0x134f37600>, 'ring_single_pn': <function ring_single_pn at 0x134f37740>, 'ring_single': <function ring_single at 0x134f37880>, 'ring_single_array': <function ring_single_array at 0x134f379c0>, 'coupler_bend': <function coupler_bend at 0x134f37b00>, 'coupler_ring_bend': <function coupler_ring_bend at 0x134f37c40>, 'ring_single_bend_coupler': <function ring_single_bend_coupler at 0x134f37d80>, 'ring_single_dut': <function ring_single_dut at 0x134f37ec0>, 'delay_snake': <function delay_snake at 0x134f37f60>, 'delay_snake2': <function delay_snake2 at 0x134f98180>, 'delay_snake_sbend': <function delay_snake_sbend at 0x134f98400>, 'spiral': <function spiral at 0x134f985e0>, 'spiral_double': <function spiral_double at 0x134f98720>, 'spiral_racetrack': <function spiral_racetrack at 0x134f98900>, 'spiral_racetrack_fixed_length': <function spiral_racetrack_fixed_length at 0x134f98a40>, 'spiral_racetrack_heater_metal': <function spiral_racetrack_heater_metal at 0x134f98c20>, 'spiral_racetrack_heater_doped': <function spiral_racetrack_heater_doped at 0x134f98d60>, 'spiral_inductor': <function spiral_inductor at 0x134f98ea0>, 'hline': <function hline at 0x134f99080>, 'optimal_90deg': <function optimal_90deg at 0x134f991c0>, 'optimal_hairpin': <function optimal_hairpin at 0x134f993a0>, 'optimal_step': <function optimal_step at 0x134f994e0>, 'snspd': <function snspd at 0x134f99620>, 'interdigital_capacitor': <function interdigital_capacitor at 0x134f99760>, 'ge_detector_straight_si_contacts': <function ge_detector_straight_si_contacts at 0x134f998a0>, 'edge_coupler_silicon': <function edge_coupler_silicon at 0x134f999e0>, 'edge_coupler_array': <function edge_coupler_array at 0x134f99b20>, 'edge_coupler_array_with_loopback': <function edge_coupler_array_with_loopback at 0x134f99c60>}, virtual_factories={'virtual_bend_circular': <function virtual_bend_circular_factory.<locals>.virtual_bend_circular at 0x132e35bc0>, 'bend_euler': <function virtual_bend_euler_factory.<locals>.bend_euler at 0x132e35da0>, 'virtual_straight': <function virtual_straight_factory.<locals>.virtual_straight at 0x132e35f80>, 'bend_circular_all_angle': <function bend_circular_all_angle at 0x134d0d260>, 'bend_euler_all_angle': <function bend_euler_all_angle at 0x134d0dd00>, 'straight_all_angle': <function straight_all_angle at 0x134d7fe20>}, kcells={0: Unnamed_0: ports [], 0 instances, 1: Unnamed_1: ports [], 0 instances, 2: Unnamed_2: ports [], 1 instances, 3: rectangle_S2_250_L9_0_C_24729edc: ports ['e1', 'e2', 'e3', 'e4'], 0 instances, 4: compass_S2_250_L9_0_PTe_065737c0: ports ['e1', 'e2', 'e3', 'e4'], 0 instances, 5: text_T250_S50_P0_0_Jleft_L1_0: ports [], 0 instances, 6: Unnamed_6: ports [], 0 instances, 7: Unnamed_7: ports [], 0 instances, 8: Unnamed_8: ports [], 0 instances, 9: Unnamed_9: ports [], 3 instances, 10: Unnamed_10: ports [], 3 instances, 11: Unnamed_11: ports [], 3 instances, 12: Unnamed_12: ports [], 2 instances, 13: Unnamed_13: ports ['o1', 'o2'], 0 instances, 14: Unnamed_14: ports ['o1', 'o2'], 0 instances, 15: Unnamed_15: ports ['o1', 'o2'], 0 instances, 16: Unnamed_16: ports [], 4 instances, 17: rectangle_S20_100_L2_0__1051e358: ports ['e1', 'e2', 'e3', 'e4'], 0 instances, 18: compass_S20_100_L2_0_PT_9f58c2a4: ports ['e1', 'e2', 'e3', 'e4'], 0 instances, 19: rectangle_S500_500_L2_0_32a0a3c9: ports ['e1', 'e2', 'e3', 'e4'], 0 instances, 20: compass_S500_500_L2_0_P_1e67b1d2: ports ['e1', 'e2', 'e3', 'e4'], 0 instances, 21: Unnamed_21: ports [], 1 instances, 22: Unnamed_22: ports [], 12 instances, 23: Unnamed_23: ports [], 1 instances, 24: Unnamed_24: ports [], 2 instances, 25: Unnamed_25: ports [], 1 instances, 26: rectangle_S250_250_L3_0_c7294b59: ports ['e1', 'e2', 'e3', 'e4'], 0 instances, 27: compass_S250_250_L3_0_P_c02f9087: ports ['e1', 'e2', 'e3', 'e4'], 0 instances, 28: Unnamed_28: ports [], 1 instances, 29: Unnamed_29: ports [], 1 instances, 30: rectangle_S621p72_621p7_074833c5: ports ['e1', 'e2', 'e3', 'e4'], 0 instances, 31: compass_S621p72_621p72__15435a28: ports ['e1', 'e2', 'e3', 'e4'], 0 instances, 32: rectangle_S2_500_L9_0_C_5204bbcd: ports ['e1', 'e2', 'e3', 'e4'], 0 instances, 33: compass_S2_500_L9_0_PTe_5cde8025: ports ['e1', 'e2', 'e3', 'e4'], 0 instances, 34: text_T500_S50_P0_0_Jleft_L1_0: ports [], 0 instances, 35: Unnamed_35: ports [], 0 instances, 36: Unnamed_36: ports [], 1 instances, 37: Unnamed_37: ports [], 2 instances, 38: Unnamed_38: ports [], 1 instances, 39: rectangle_S500_500_L3_0_095cb746: ports ['e1', 'e2', 'e3', 'e4'], 0 instances, 40: compass_S500_500_L3_0_P_59134d96: ports ['e1', 'e2', 'e3', 'e4'], 0 instances, 41: Unnamed_41: ports [], 1 instances, 42: Unnamed_42: ports [], 1 instances, 43: rectangle_S871p72_871p7_6941abd5: ports ['e1', 'e2', 'e3', 'e4'], 0 instances, 44: compass_S871p72_871p72__b740553e: ports ['e1', 'e2', 'e3', 'e4'], 0 instances, 45: rectangle_S2_750_L9_0_C_2718df4b: ports ['e1', 'e2', 'e3', 'e4'], 0 instances, 46: compass_S2_750_L9_0_PTe_b69d3767: ports ['e1', 'e2', 'e3', 'e4'], 0 instances, 47: text_T750_S50_P0_0_Jleft_L1_0: ports [], 0 instances, 48: Unnamed_48: ports [], 0 instances, 49: Unnamed_49: ports [], 1 instances, 50: Unnamed_50: ports [], 2 instances, 51: Unnamed_51: ports [], 1 instances, 52: rectangle_S750_750_L3_0_6e5bab7c: ports ['e1', 'e2', 'e3', 'e4'], 0 instances, 53: compass_S750_750_L3_0_P_942b9506: ports ['e1', 'e2', 'e3', 'e4'], 0 instances, 54: Unnamed_54: ports [], 1 instances, 55: Unnamed_55: ports [], 1 instances, 56: rectangle_S1121p72_1121_35d847ae: ports ['e1', 'e2', 'e3', 'e4'], 0 instances, 57: compass_S1121p72_1121p7_57e835be: ports ['e1', 'e2', 'e3', 'e4'], 0 instances, 58: rectangle_S2_1000_L9_0__4b45e69f: ports ['e1', 'e2', 'e3', 'e4'], 0 instances, 59: compass_S2_1000_L9_0_PT_2fd35d5a: ports ['e1', 'e2', 'e3', 'e4'], 0 instances, 60: text_T1000_S50_P0_0_Jleft_L1_0: ports [], 0 instances, 61: Unnamed_61: ports [], 0 instances, 62: Unnamed_62: ports [], 1 instances, 63: Unnamed_63: ports [], 2 instances, 64: Unnamed_64: ports [], 1 instances, 65: rectangle_S1000_1000_L3_1ef5cb5c: ports ['e1', 'e2', 'e3', 'e4'], 0 instances, 66: compass_S1000_1000_L3_0_7986cd02: ports ['e1', 'e2', 'e3', 'e4'], 0 instances, 67: Unnamed_67: ports [], 1 instances, 68: Unnamed_68: ports [], 1 instances, 69: rectangle_S1371p72_1371_f5a3a8c9: ports ['e1', 'e2', 'e3', 'e4'], 0 instances, 70: compass_S1371p72_1371p7_25172cb1: ports ['e1', 'e2', 'e3', 'e4'], 0 instances, 71: Unnamed_71: ports [], 6 instances, 72: rectangle_S15000_10830__cd2686a7: ports ['e1', 'e2', 'e3', 'e4'], 0 instances, 73: compass_S15000_10830_L2_f8b9feaa: ports ['e1', 'e2', 'e3', 'e4'], 0 instances, 74: rectangle_S20000_15830__41eada1f: ports ['e1', 'e2', 'e3', 'e4'], 0 instances, 75: compass_S20000_15830_L2_6356cda4: ports ['e1', 'e2', 'e3', 'e4'], 0 instances, 76: Unnamed_76: ports [], 1 instances}, layers=<aenum 'LAYER'>, infos=LayerInfos(), layer_stack=LayerStack(layers={}), netlist_layer_mapping={}, sparameters_path=None, interconnect_cml_path=None, constants=Constants(), rename_function=<function rename_clockwise_multi at 0x12262cae0>, info=Info(), settings=KCellSettings(version='0.23.2', klayout_version='0.29.11', meta_format='v3'), future_cell_name=None, decorators=<kfactory.decorators.Decorators object at 0x122697f50>) function_name=None basename=None boundary=None insts=<gdsfactory.component.ComponentReferences object at 0x137c41e50> size_info=<kfactory.kcell.SizeInfo object at 0x1350f5a50> dsize_info=<kfactory.kcell.DSizeInfo object at 0x137c41e10> routes={}"
      ]
     },
     "execution_count": 8,
     "metadata": {},
     "output_type": "execute_result"
    }
   ],
   "source": [
    "# boolean operation\n",
    "\n",
    "cell_temp.add_ref(fblock).move((-1000, 1600))\n",
    "# add order\n",
    "# cell_temp << order\n",
    "# frame\n",
    "frame1 = gf.components.rectangle(size=(15000, 10830), layer=(20, 0))\n",
    "cell_temp << frame1\n",
    "frame2 = gf.components.rectangle(size=(20000, 15830), layer=(21, 0))\n",
    "frame2_ref = cell_temp << frame2\n",
    "frame2_ref.move((-2500, -2500))\n",
    "\n",
    "cell_d_clamped_resistive = gf.Component()\n",
    "cell_ref = cell_d_clamped_resistive << cell_temp\n",
    "cell_ref.move((2500, 12500))\n",
    "# cell_d_clamped_resistive.show()\n",
    "# cell_d_clamped_resistive.write_gds(\"mesh.gds\")\n",
    "# cell_d_clamped_resistive.plot()"
   ]
  }
 ],
 "metadata": {
  "kernelspec": {
   "display_name": "Python 3",
   "language": "python",
   "name": "python3"
  },
  "language_info": {
   "codemirror_mode": {
    "name": "ipython",
    "version": 3
   },
   "file_extension": ".py",
   "mimetype": "text/x-python",
   "name": "python",
   "nbconvert_exporter": "python",
   "pygments_lexer": "ipython3",
   "version": "3.11.11"
  }
 },
 "nbformat": 4,
 "nbformat_minor": 2
}
