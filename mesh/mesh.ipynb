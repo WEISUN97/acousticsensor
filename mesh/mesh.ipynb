{
 "cells": [
  {
   "cell_type": "code",
   "execution_count": null,
   "metadata": {},
   "outputs": [],
   "source": [
    "import sys\n",
    "sys.path.append(\"/Users/bubble/Desktop/Project/Infrasound Sensor/Layout/Code/acousticsensor\")\n",
    "\n",
    "import gdsfactory as gf\n",
    "import Tools.geo_trans as gt\n",
    "\n",
    "# wafer and cell\n",
    "\n",
    "# single cell\n",
    "cell = gf.Component()\n",
    "# backside etching 15mm * 15mm\n",
    "backside = gf.components.rectangle(size=(15, 15), layer=(2, 0))\n",
    "backside = cell << backside\n",
    "# cell.plot()\n",
    "# cell.show()"
   ]
  },
  {
   "cell_type": "code",
   "execution_count": null,
   "metadata": {},
   "outputs": [],
   "source": [
    "\n",
    "# structure in each cell unit\n",
    "p1 = c.add_polygon([(-8, -6), (6, 8), (7, 17), (9, 5)], layer=(1, 0))\n",
    "c.write_gds(\"demo.gds\")  # write it to a GDS file. You can open it in klayout.\n",
    "c.show()  # show it in klayout\n",
    "c.plot()  # plot it in jupyter notebook"
   ]
  },
  {
   "cell_type": "code",
   "execution_count": null,
   "metadata": {},
   "outputs": [],
   "source": [
    "# cell array\n",
    "components_list = [backside] * 12\n",
    "gridArray = gf.grid(\n",
    "    tuple(components_list),\n",
    "    spacing=(0, 0),\n",
    "    shape=(3, 4),\n",
    "    align_x=\"x\",\n",
    "    align_y=\"y\",\n",
    ")\n",
    "gridArray.plot()"
   ]
  }
 ],
 "metadata": {
  "kernelspec": {
   "display_name": "Python 3",
   "language": "python",
   "name": "python3"
  },
  "language_info": {
   "codemirror_mode": {
    "name": "ipython",
    "version": 3
   },
   "file_extension": ".py",
   "mimetype": "text/x-python",
   "name": "python",
   "nbconvert_exporter": "python",
   "pygments_lexer": "ipython3",
   "version": "3.11.11"
  }
 },
 "nbformat": 4,
 "nbformat_minor": 2
}
