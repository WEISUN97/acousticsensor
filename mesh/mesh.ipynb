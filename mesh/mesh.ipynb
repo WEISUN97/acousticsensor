{
 "cells": [
  {
   "cell_type": "code",
   "execution_count": 14,
   "metadata": {},
   "outputs": [],
   "source": [
    "import sys\n",
    "sys.path.append(\"/Users/bubble/Desktop/Project/Infrasound Sensor/Layout/Code/acousticsensor\")\n",
    "\n",
    "import gdsfactory as gf\n",
    "import Tools.geo_trans as gt\n",
    "\n",
    "\n",
    "cell = gf.Component()"
   ]
  },
  {
   "cell_type": "code",
   "execution_count": 23,
   "metadata": {},
   "outputs": [
    {
     "name": "stdout",
     "output_type": "stream",
     "text": [
      "[21, 12, 8, 42, 23, 16, 63, 35, 24, 84, 46, 32]\n"
     ]
    }
   ],
   "source": [
    "# structure for each side\n",
    "L = [250, 500, 750, 1000]\n",
    "g = [10, 20, 30]\n",
    "w = 2\n",
    "t = 0.5\n",
    "beamNum = []\n",
    "k = (len(L) * len(g))\n",
    "mesh = [None] * k\n",
    "for i in range(k):\n",
    "    mesh[i] = gf.Component()\n",
    "side = gf.Component()\n",
    "count = 0\n",
    "origin = (15000 / 13, 0)\n",
    "for i in range(4):\n",
    "    for j in range(3):\n",
    "        # single grid\n",
    "        row = column =  L[i] // (g[j]+w)\n",
    "        beamNum.append(row+1)\n",
    "        height = L[i] / row - w\n",
    "        sg = gf.components.rectangle(size=(g[j], height), layer=(8, 0))\n",
    "        for m in range(column):\n",
    "            for n in range(row):\n",
    "                sf_ref = mesh[count] << sg\n",
    "                sf_ref.move((origin[0]+m*(g[j]+w), origin[1]+n*(height+w)))\n",
    "        # frame\n",
    "        fra_width = column * (g[j] + w) + w\n",
    "        frame = gf.components.rectangle(size=(fra_width, L[i]), layer=(9, 0))\n",
    "        frame_ref = mesh[count] << frame\n",
    "        frame_ref.movex(origin[0]-w)\n",
    "        # crystal\n",
    "        mid = origin[0] - w + fra_width / 2\n",
    "        cry_size = g[j] if j != 0 else 22\n",
    "        cry_height = height+0.1 if j != 0 else 2*height+w+0.1\n",
    "        crystal = gf.components.rectangle(size=(cry_size, cry_height), layer=(10, 0))\n",
    "        crystal_ref = mesh[count] << crystal\n",
    "        crystal_ref.move((mid-cry_size/2, L[i]-cry_height-w+0.1))\n",
    "        # holes on crystal\n",
    "        hole_size = 0.8\n",
    "        hole_int = 0.9\n",
    "        hole_dis = hole_int - hole_size\n",
    "        hole_n = int(cry_size // hole_int) \n",
    "        hole_n = hole_n - 2 if hole_n % 2 == 0 else hole_n - 1\n",
    "        hole = gf.components.circle(radius=hole_size/2, layer=(11, 0))\n",
    "        a = hole_n * hole_size + (hole_n-1) * hole_dis\n",
    "        a = (cry_size - a) / 2 + hole_size / 2\n",
    "        for m in range(hole_n):\n",
    "            for n in range(hole_n):\n",
    "                hole_ref = mesh[count] << hole\n",
    "                hole_ref.move((mid-cry_size/2+a, L[i]-cry_height-w+0.1+a))\n",
    "                hole_ref.move((m*hole_int, n*hole_int))\n",
    "        # add mesh[count] to side and adjust position\n",
    "        mesh_ref = side << mesh[count]\n",
    "        mesh_ref.movex(count * 15000 / 13)\n",
    "        count += 1\n",
    "        \n",
    "side.show()\n",
    "print(beamNum)"
   ]
  },
  {
   "cell_type": "code",
   "execution_count": 24,
   "metadata": {},
   "outputs": [],
   "source": [
    "# backside etching 15mm * 15mm\n",
    "backside = gf.components.rectangle(size=(15000, 15000), layer=(2, 0))\n",
    "# cell << backside\n",
    "# cell.show()"
   ]
  },
  {
   "cell_type": "code",
   "execution_count": 29,
   "metadata": {},
   "outputs": [],
   "source": [
    "# structure for each die\n",
    "\n",
    "double_side = gf.Component()\n",
    "# structure for double sides\n",
    "side_ref = double_side << side\n",
    "side_ref.dmirror_y(15000/2).dmirror_x(15000/2)\n",
    "double_side << side\n",
    "\n",
    "# structure for 4 sides\n",
    "fside = gf.Component()\n",
    "dside_ref = fside << double_side\n",
    "dside_ref.drotate(angle=90, center=(15000/2, 15000/2))\n",
    "fside << double_side\n",
    "fside.show()"
   ]
  },
  {
   "cell_type": "code",
   "execution_count": 31,
   "metadata": {},
   "outputs": [],
   "source": [
    "# boolean operation\n",
    "# do backside etching - frame\n",
    "outside = gf.boolean(A = backside, B = fside,  operation=\"not\", layer1=(2, 0), layer2=(9, 0), layer=(1, 0))\n",
    "cell << outside\n",
    "\n",
    "#  do holes etching - crystal\n",
    "holes = gf.boolean(A = fside, B = fside,  operation=\"not\", layer1=(8, 0), layer2=(10, 0), layer=(1, 0))\n",
    "cell << holes\n",
    "# add holes to cell\n",
    "pc = gf.boolean(A = fside, B = fside,  operation=\"not\", layer1=(11, 0), layer2=(30, 0), layer=(1, 0))\n",
    "#  add backside etching to cell\n",
    "cell << pc\n",
    "cell << backside\n",
    "cell.show()\n",
    "# cell.write_gds(\"mesh.gds\")\n",
    "# cell.plot()"
   ]
  }
 ],
 "metadata": {
  "kernelspec": {
   "display_name": "Python 3",
   "language": "python",
   "name": "python3"
  },
  "language_info": {
   "codemirror_mode": {
    "name": "ipython",
    "version": 3
   },
   "file_extension": ".py",
   "mimetype": "text/x-python",
   "name": "python",
   "nbconvert_exporter": "python",
   "pygments_lexer": "ipython3",
   "version": "3.11.11"
  }
 },
 "nbformat": 4,
 "nbformat_minor": 2
}
