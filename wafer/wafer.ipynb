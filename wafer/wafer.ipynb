{
 "cells": [
  {
   "cell_type": "code",
   "execution_count": 3,
   "metadata": {},
   "outputs": [],
   "source": [
    "%reset -f\n",
    "import gdsfactory as gf\n",
    "import import_ipynb\n",
    "import sys\n",
    "sys.path.append(\"/Users/bubble/Desktop/Project/Infrasound Sensor/Layout/Code/acousticsensor\")\n",
    "# %run \"/Users/bubble/Desktop/Project/Infrasound Sensor/Layout/Code/acousticsensor/chip/chip_mesh.ipynb\"\n"
   ]
  },
  {
   "cell_type": "code",
   "execution_count": 4,
   "metadata": {},
   "outputs": [],
   "source": [
    "from chip.chip_mesh import cell_mesh\n",
    "from chip.chip_beam import cell_beam\n",
    "from chip.chip_resonator import cell_resonator\n",
    "from chip.chip_resonator_stiff import cell_resonator_stiff\n",
    "from chip.chip_membrane import cell_membrane\n",
    "from chip.chip_mesh_large import cell_mesh_large\n",
    "from chip.chip_membrane_large import cell_membrane_large\n",
    "\n",
    "wafer = gf.Component()\n",
    "\n",
    "# layout of different cells on wafer\n",
    "\n",
    "# cell_mesh\n",
    "wafer << cell_mesh\n",
    "wafer.add_ref(cell_mesh).movex(20000).movey(-20000)\n",
    "wafer.add_ref(cell_mesh).movey(-20000)\n",
    "\n",
    "# cell_resonator\n",
    "wafer.add_ref(cell_resonator).movex(-20000)\n",
    "wafer.add_ref(cell_resonator).movex(-20000).movey(-20000)\n",
    "wafer.add_ref(cell_resonator).movex(-40000).movey(-20000)\n",
    "\n",
    "# cell_resonator_stiff\n",
    "wafer.add_ref(cell_resonator_stiff).movex(-40000)\n",
    "wafer.add_ref(cell_resonator_stiff).movex(-40000).movey(20000)\n",
    "\n",
    "# cell_beam\n",
    "wafer.add_ref(cell_beam).movex(-20000).movey(20000)\n",
    "\n",
    "# cell_membrane\n",
    "wafer.add_ref(cell_membrane).movey(20000)\n",
    "\n",
    "# cell_mesh_large\n",
    "wafer.add_ref(cell_mesh_large).movex(20000).movey(20000)\n",
    "\n",
    "# cell_membrane_large\n",
    "wafer.add_ref(cell_membrane_large).movex(20000)\n",
    "wafer.show()"
   ]
  },
  {
   "cell_type": "code",
   "execution_count": 5,
   "metadata": {},
   "outputs": [],
   "source": [
    "# grid\n",
    "circle = gf.components.circle(50000, layer=(10, 0))\n",
    "circle_ref = wafer << circle\n",
    "# horizontal lines of the grid\n",
    "h_lines = [2, 4, 4, 4, 4, 2]\n",
    "y_space = [0, 15830, 20000, 20000, 20000, 15830]\n",
    "y_space_temp = 0\n",
    "for i in range(len(h_lines)):\n",
    "    horizontal_line = gf.components.rectangle(size=(h_lines[i]*20000, 200), layer=(1, 0))\n",
    "    y_space_temp += y_space[i]\n",
    "    frame = wafer << horizontal_line\n",
    "    frame.move((20000 * (-h_lines[i]/2), 45830-y_space_temp-100))\n",
    "# vertical lines of the grid\n",
    "v_lines = [60000, 91660, 91660, 91660, 60000]\n",
    "for i in range(len(v_lines)):\n",
    "    y_space_temp += y_space[i]\n",
    "    vertical_line = gf.components.rectangle(size=(200, v_lines[i]), layer=(1, 0))\n",
    "    frame = wafer << vertical_line\n",
    "    frame.move((20000 * (-2+i)-100,-v_lines[i]/2))\n"
   ]
  },
  {
   "cell_type": "code",
   "execution_count": 6,
   "metadata": {},
   "outputs": [],
   "source": [
    "# marker\n",
    "marker_1 = gf.components.rectangle(size=(4, 1000), layer=(1, 0))\n",
    "marker_2 = gf.components.rectangle(size=(1000, 4), layer=(1, 0))\n",
    "marker_basic = gf.Component()\n",
    "marker_1_ref = marker_basic << marker_1\n",
    "marker_2_ref = marker_basic << marker_2\n",
    "marker_1_ref.move((-2, -500))\n",
    "marker_2_ref.move((-500, -2))\n",
    "marker_tri = gf.Component()\n",
    "marker_tri.add_ref(marker_basic).movex(-1000)\n",
    "marker_tri.add_ref(marker_basic).movey(1000)\n",
    "marker_tri.add_ref(marker_basic).movey(-1000)\n",
    "mark_left = wafer << marker_tri\n",
    "mark_left.move((-40700, 0))\n",
    "mark_right = wafer << marker_tri\n",
    "mark_right.dmirror_x(0).movex(40700)\n",
    "wafer.show()\n"
   ]
  }
 ],
 "metadata": {
  "kernelspec": {
   "display_name": "Python 3",
   "language": "python",
   "name": "python3"
  },
  "language_info": {
   "codemirror_mode": {
    "name": "ipython",
    "version": 3
   },
   "file_extension": ".py",
   "mimetype": "text/x-python",
   "name": "python",
   "nbconvert_exporter": "python",
   "pygments_lexer": "ipython3",
   "version": "3.11.11"
  }
 },
 "nbformat": 4,
 "nbformat_minor": 2
}
