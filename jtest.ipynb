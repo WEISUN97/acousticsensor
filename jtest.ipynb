{
 "cells": [
  {
   "cell_type": "code",
   "execution_count": 1,
   "metadata": {},
   "outputs": [
    {
     "name": "stdout",
     "output_type": "stream",
     "text": [
      "\u001b[32m2025-03-14 12:44:27.651\u001b[0m | \u001b[1mINFO    \u001b[0m | \u001b[36mkfactory.kcell\u001b[0m:\u001b[36mshow\u001b[0m:\u001b[36m8777\u001b[0m - \u001b[1mklive v0.3.3: Opened file '/Users/bubble/Desktop/Project/Infrasound Sensor/Layout/Code/acousticsensor/build/gds/3317033153.oas'\u001b[0m\n"
     ]
    }
   ],
   "source": [
    "import gdsfactory as gf\n",
    "import numpy as np\n",
    "# pad and lines\n",
    "# bottom pad\n",
    "pad = gf.Component()\n",
    "# pad_size = 500\n",
    "# sg_pad = gf.components.pad(size=(pad_size, pad_size), layer=(11, 0))\n",
    "# sg_pad_ref = pad << sg_pad\n",
    "\n",
    "# lines\n",
    "line_base = gf.Component()\n",
    "# define the cross section  \n",
    "s1 = gf.Section(width=10, offset=0, layer=(11, 0), name=\"1\", port_names=(\"o1\", \"o2\"))\n",
    "X1 = gf.CrossSection(sections=[s1])\n",
    "s2 = gf.Section(width=10, offset=0, layer=(11, 0), name=\"1\", port_names=(\"o1\", \"o2\"))\n",
    "X2 = gf.CrossSection(sections=[s2])\n",
    "# define the path\n",
    "# define distance\n",
    "d1 = 90\n",
    "radius = 20\n",
    "d3 = 20\n",
    "h1 = 20\n",
    "d5 = 0.4\n",
    "p1 = gf.path.straight(length=d1)\n",
    "p2 = gf.path.arc(radius=radius, angle=-45)\n",
    "# p4 = gf.path.euler(radius=10, angle=45, use_eff=False)\n",
    "p4 = gf.path.arc(radius=radius, angle=-45)\n",
    "\n",
    "p = p2 + p4\n",
    "wg1 = gf.path.extrude(p, X1)\n",
    "\n",
    "wg1_ref = pad << wg1\n",
    "\n",
    "\n",
    "\n",
    "pad.show()\n"
   ]
  },
  {
   "cell_type": "code",
   "execution_count": null,
   "metadata": {},
   "outputs": [
    {
     "name": "stdout",
     "output_type": "stream",
     "text": [
      "741.4840900458918\n"
     ]
    }
   ],
   "source": [
    "print(525/ np.tan(np.pi*54.7/180))"
   ]
  }
 ],
 "metadata": {
  "kernelspec": {
   "display_name": "Python 3",
   "language": "python",
   "name": "python3"
  },
  "language_info": {
   "codemirror_mode": {
    "name": "ipython",
    "version": 3
   },
   "file_extension": ".py",
   "mimetype": "text/x-python",
   "name": "python",
   "nbconvert_exporter": "python",
   "pygments_lexer": "ipython3",
   "version": "3.11.11"
  }
 },
 "nbformat": 4,
 "nbformat_minor": 2
}
